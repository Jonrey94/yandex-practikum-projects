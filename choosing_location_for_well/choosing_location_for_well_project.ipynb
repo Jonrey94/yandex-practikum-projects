{
 "cells": [
  {
   "cell_type": "markdown",
   "metadata": {},
   "source": [
    "# Выбор локации для скважины"
   ]
  },
  {
   "cell_type": "markdown",
   "metadata": {},
   "source": [
    "Перед нами предоставлены пробы нефти в трёх регионах: в каждом 10 000 месторождений, где измерили качество нефти и объём её запасов. \n",
    "Наша задача - построить модель машинного обучения, которая поможет определить регион, где добыча принесёт наибольшую прибыль. Проанализируем возможную прибыль и риски техникой *Bootstrap.*"
   ]
  },
  {
   "cell_type": "markdown",
   "metadata": {},
   "source": [
    "## Загрузка и подготовка данных"
   ]
  },
  {
   "cell_type": "markdown",
   "metadata": {},
   "source": [
    "Загрузим данные из файлов"
   ]
  },
  {
   "cell_type": "code",
   "execution_count": 1,
   "metadata": {},
   "outputs": [],
   "source": [
    "import pandas as pd\n",
    "from sklearn.model_selection import train_test_split\n",
    "from sklearn.linear_model import LinearRegression\n",
    "from scipy import stats as st\n",
    "import numpy as np\n",
    "from sklearn.metrics import mean_squared_error, r2_score, mean_absolute_error\n",
    "import matplotlib.pyplot as plt\n",
    "import seaborn as sns\n",
    "from sklearn.utils import shuffle\n",
    "import warnings\n",
    "# настройки\n",
    "warnings.filterwarnings(\"ignore\")"
   ]
  },
  {
   "cell_type": "code",
   "execution_count": 2,
   "metadata": {},
   "outputs": [],
   "source": [
    "try:\n",
    "    geo_data_0 = pd.read_csv('/datasets/geo_data_0.csv')\n",
    "    geo_data_1 = pd.read_csv('/datasets/geo_data_1.csv')\n",
    "    geo_data_2 = pd.read_csv('/datasets/geo_data_2.csv')\n",
    "except:\n",
    "    print(\"Не удалось прочитать файл\")"
   ]
  },
  {
   "cell_type": "code",
   "execution_count": 3,
   "metadata": {},
   "outputs": [],
   "source": [
    "#Создадим фкнкцию для получения информации от каждого датасета\n",
    "def dataset_info(dataset):\n",
    "    display('Первые пять строк датасета')\n",
    "    display(dataset.head())\n",
    "    display('Информация о датасете')\n",
    "    display(dataset.info())\n",
    "    display('Описание датасета')\n",
    "    display(dataset.describe(include='all'))\n",
    "    display('Гистограммы')\n",
    "    display(dataset.hist(bins=15,figsize=(10,10)));\n",
    "    "
   ]
  },
  {
   "cell_type": "markdown",
   "metadata": {},
   "source": [
    "Цель нашего проекта посчитать прибыль и риски для каждого региона и выбрать наиболее рентабельный. \n",
    "Для этого:\n",
    "1. Изучим данные о регионах;\n",
    "2. Построим модель линейной регрессии для определения кол-ва бареллей в регионах. Является обучение с учителем. Изучим качество модели.\n",
    "3. Расчитаем прибыль и риски убытка.\n",
    "\n",
    "**Инормация о датасета**:\n",
    "- /datasets/geo_data_0.csv. - Регион 1\n",
    "- /datasets/geo_data_1.csv. - Регион 2\n",
    "- /datasets/geo_data_2.csv. - Регион 3\n",
    "- id — уникальный идентификатор скважины;\n",
    "- f0, f1, f2 — три признака точек (неважно, что они означают, но сами признаки значимы);\n",
    "- product — объём запасов в скважине (тыс. баррелей)."
   ]
  },
  {
   "cell_type": "markdown",
   "metadata": {},
   "source": [
    "### Информация о первом регионе"
   ]
  },
  {
   "cell_type": "code",
   "execution_count": 4,
   "metadata": {
    "scrolled": false
   },
   "outputs": [
    {
     "data": {
      "text/plain": [
       "'Первые пять строк датасета'"
      ]
     },
     "metadata": {},
     "output_type": "display_data"
    },
    {
     "data": {
      "text/html": [
       "<div>\n",
       "<style scoped>\n",
       "    .dataframe tbody tr th:only-of-type {\n",
       "        vertical-align: middle;\n",
       "    }\n",
       "\n",
       "    .dataframe tbody tr th {\n",
       "        vertical-align: top;\n",
       "    }\n",
       "\n",
       "    .dataframe thead th {\n",
       "        text-align: right;\n",
       "    }\n",
       "</style>\n",
       "<table border=\"1\" class=\"dataframe\">\n",
       "  <thead>\n",
       "    <tr style=\"text-align: right;\">\n",
       "      <th></th>\n",
       "      <th>id</th>\n",
       "      <th>f0</th>\n",
       "      <th>f1</th>\n",
       "      <th>f2</th>\n",
       "      <th>product</th>\n",
       "    </tr>\n",
       "  </thead>\n",
       "  <tbody>\n",
       "    <tr>\n",
       "      <th>0</th>\n",
       "      <td>txEyH</td>\n",
       "      <td>0.705745</td>\n",
       "      <td>-0.497823</td>\n",
       "      <td>1.221170</td>\n",
       "      <td>105.280062</td>\n",
       "    </tr>\n",
       "    <tr>\n",
       "      <th>1</th>\n",
       "      <td>2acmU</td>\n",
       "      <td>1.334711</td>\n",
       "      <td>-0.340164</td>\n",
       "      <td>4.365080</td>\n",
       "      <td>73.037750</td>\n",
       "    </tr>\n",
       "    <tr>\n",
       "      <th>2</th>\n",
       "      <td>409Wp</td>\n",
       "      <td>1.022732</td>\n",
       "      <td>0.151990</td>\n",
       "      <td>1.419926</td>\n",
       "      <td>85.265647</td>\n",
       "    </tr>\n",
       "    <tr>\n",
       "      <th>3</th>\n",
       "      <td>iJLyR</td>\n",
       "      <td>-0.032172</td>\n",
       "      <td>0.139033</td>\n",
       "      <td>2.978566</td>\n",
       "      <td>168.620776</td>\n",
       "    </tr>\n",
       "    <tr>\n",
       "      <th>4</th>\n",
       "      <td>Xdl7t</td>\n",
       "      <td>1.988431</td>\n",
       "      <td>0.155413</td>\n",
       "      <td>4.751769</td>\n",
       "      <td>154.036647</td>\n",
       "    </tr>\n",
       "  </tbody>\n",
       "</table>\n",
       "</div>"
      ],
      "text/plain": [
       "      id        f0        f1        f2     product\n",
       "0  txEyH  0.705745 -0.497823  1.221170  105.280062\n",
       "1  2acmU  1.334711 -0.340164  4.365080   73.037750\n",
       "2  409Wp  1.022732  0.151990  1.419926   85.265647\n",
       "3  iJLyR -0.032172  0.139033  2.978566  168.620776\n",
       "4  Xdl7t  1.988431  0.155413  4.751769  154.036647"
      ]
     },
     "metadata": {},
     "output_type": "display_data"
    },
    {
     "data": {
      "text/plain": [
       "'Информация о датасете'"
      ]
     },
     "metadata": {},
     "output_type": "display_data"
    },
    {
     "name": "stdout",
     "output_type": "stream",
     "text": [
      "<class 'pandas.core.frame.DataFrame'>\n",
      "RangeIndex: 100000 entries, 0 to 99999\n",
      "Data columns (total 5 columns):\n",
      " #   Column   Non-Null Count   Dtype  \n",
      "---  ------   --------------   -----  \n",
      " 0   id       100000 non-null  object \n",
      " 1   f0       100000 non-null  float64\n",
      " 2   f1       100000 non-null  float64\n",
      " 3   f2       100000 non-null  float64\n",
      " 4   product  100000 non-null  float64\n",
      "dtypes: float64(4), object(1)\n",
      "memory usage: 3.8+ MB\n"
     ]
    },
    {
     "data": {
      "text/plain": [
       "None"
      ]
     },
     "metadata": {},
     "output_type": "display_data"
    },
    {
     "data": {
      "text/plain": [
       "'Описание датасета'"
      ]
     },
     "metadata": {},
     "output_type": "display_data"
    },
    {
     "data": {
      "text/html": [
       "<div>\n",
       "<style scoped>\n",
       "    .dataframe tbody tr th:only-of-type {\n",
       "        vertical-align: middle;\n",
       "    }\n",
       "\n",
       "    .dataframe tbody tr th {\n",
       "        vertical-align: top;\n",
       "    }\n",
       "\n",
       "    .dataframe thead th {\n",
       "        text-align: right;\n",
       "    }\n",
       "</style>\n",
       "<table border=\"1\" class=\"dataframe\">\n",
       "  <thead>\n",
       "    <tr style=\"text-align: right;\">\n",
       "      <th></th>\n",
       "      <th>id</th>\n",
       "      <th>f0</th>\n",
       "      <th>f1</th>\n",
       "      <th>f2</th>\n",
       "      <th>product</th>\n",
       "    </tr>\n",
       "  </thead>\n",
       "  <tbody>\n",
       "    <tr>\n",
       "      <th>count</th>\n",
       "      <td>100000</td>\n",
       "      <td>100000.000000</td>\n",
       "      <td>100000.000000</td>\n",
       "      <td>100000.000000</td>\n",
       "      <td>100000.000000</td>\n",
       "    </tr>\n",
       "    <tr>\n",
       "      <th>unique</th>\n",
       "      <td>99990</td>\n",
       "      <td>NaN</td>\n",
       "      <td>NaN</td>\n",
       "      <td>NaN</td>\n",
       "      <td>NaN</td>\n",
       "    </tr>\n",
       "    <tr>\n",
       "      <th>top</th>\n",
       "      <td>QcMuo</td>\n",
       "      <td>NaN</td>\n",
       "      <td>NaN</td>\n",
       "      <td>NaN</td>\n",
       "      <td>NaN</td>\n",
       "    </tr>\n",
       "    <tr>\n",
       "      <th>freq</th>\n",
       "      <td>2</td>\n",
       "      <td>NaN</td>\n",
       "      <td>NaN</td>\n",
       "      <td>NaN</td>\n",
       "      <td>NaN</td>\n",
       "    </tr>\n",
       "    <tr>\n",
       "      <th>mean</th>\n",
       "      <td>NaN</td>\n",
       "      <td>0.500419</td>\n",
       "      <td>0.250143</td>\n",
       "      <td>2.502647</td>\n",
       "      <td>92.500000</td>\n",
       "    </tr>\n",
       "    <tr>\n",
       "      <th>std</th>\n",
       "      <td>NaN</td>\n",
       "      <td>0.871832</td>\n",
       "      <td>0.504433</td>\n",
       "      <td>3.248248</td>\n",
       "      <td>44.288691</td>\n",
       "    </tr>\n",
       "    <tr>\n",
       "      <th>min</th>\n",
       "      <td>NaN</td>\n",
       "      <td>-1.408605</td>\n",
       "      <td>-0.848218</td>\n",
       "      <td>-12.088328</td>\n",
       "      <td>0.000000</td>\n",
       "    </tr>\n",
       "    <tr>\n",
       "      <th>25%</th>\n",
       "      <td>NaN</td>\n",
       "      <td>-0.072580</td>\n",
       "      <td>-0.200881</td>\n",
       "      <td>0.287748</td>\n",
       "      <td>56.497507</td>\n",
       "    </tr>\n",
       "    <tr>\n",
       "      <th>50%</th>\n",
       "      <td>NaN</td>\n",
       "      <td>0.502360</td>\n",
       "      <td>0.250252</td>\n",
       "      <td>2.515969</td>\n",
       "      <td>91.849972</td>\n",
       "    </tr>\n",
       "    <tr>\n",
       "      <th>75%</th>\n",
       "      <td>NaN</td>\n",
       "      <td>1.073581</td>\n",
       "      <td>0.700646</td>\n",
       "      <td>4.715088</td>\n",
       "      <td>128.564089</td>\n",
       "    </tr>\n",
       "    <tr>\n",
       "      <th>max</th>\n",
       "      <td>NaN</td>\n",
       "      <td>2.362331</td>\n",
       "      <td>1.343769</td>\n",
       "      <td>16.003790</td>\n",
       "      <td>185.364347</td>\n",
       "    </tr>\n",
       "  </tbody>\n",
       "</table>\n",
       "</div>"
      ],
      "text/plain": [
       "            id             f0             f1             f2        product\n",
       "count   100000  100000.000000  100000.000000  100000.000000  100000.000000\n",
       "unique   99990            NaN            NaN            NaN            NaN\n",
       "top      QcMuo            NaN            NaN            NaN            NaN\n",
       "freq         2            NaN            NaN            NaN            NaN\n",
       "mean       NaN       0.500419       0.250143       2.502647      92.500000\n",
       "std        NaN       0.871832       0.504433       3.248248      44.288691\n",
       "min        NaN      -1.408605      -0.848218     -12.088328       0.000000\n",
       "25%        NaN      -0.072580      -0.200881       0.287748      56.497507\n",
       "50%        NaN       0.502360       0.250252       2.515969      91.849972\n",
       "75%        NaN       1.073581       0.700646       4.715088     128.564089\n",
       "max        NaN       2.362331       1.343769      16.003790     185.364347"
      ]
     },
     "metadata": {},
     "output_type": "display_data"
    },
    {
     "data": {
      "text/plain": [
       "'Гистограммы'"
      ]
     },
     "metadata": {},
     "output_type": "display_data"
    },
    {
     "data": {
      "text/plain": [
       "array([[<AxesSubplot:title={'center':'f0'}>,\n",
       "        <AxesSubplot:title={'center':'f1'}>],\n",
       "       [<AxesSubplot:title={'center':'f2'}>,\n",
       "        <AxesSubplot:title={'center':'product'}>]], dtype=object)"
      ]
     },
     "metadata": {},
     "output_type": "display_data"
    },
    {
     "data": {
      "image/png": "[encoded data removed]",
      "text/plain": [
       "<Figure size 720x720 with 4 Axes>"
      ]
     },
     "metadata": {
      "needs_background": "light"
     },
     "output_type": "display_data"
    }
   ],
   "source": [
    "dataset_info(geo_data_0)"
   ]
  },
  {
   "cell_type": "code",
   "execution_count": 5,
   "metadata": {},
   "outputs": [
    {
     "data": {
      "text/html": [
       "<div>\n",
       "<style scoped>\n",
       "    .dataframe tbody tr th:only-of-type {\n",
       "        vertical-align: middle;\n",
       "    }\n",
       "\n",
       "    .dataframe tbody tr th {\n",
       "        vertical-align: top;\n",
       "    }\n",
       "\n",
       "    .dataframe thead th {\n",
       "        text-align: right;\n",
       "    }\n",
       "</style>\n",
       "<table border=\"1\" class=\"dataframe\">\n",
       "  <thead>\n",
       "    <tr style=\"text-align: right;\">\n",
       "      <th></th>\n",
       "      <th>id</th>\n",
       "      <th>f0</th>\n",
       "      <th>f1</th>\n",
       "      <th>f2</th>\n",
       "      <th>product</th>\n",
       "    </tr>\n",
       "  </thead>\n",
       "  <tbody>\n",
       "    <tr>\n",
       "      <th>66136</th>\n",
       "      <td>74z30</td>\n",
       "      <td>1.084962</td>\n",
       "      <td>-0.312358</td>\n",
       "      <td>6.990771</td>\n",
       "      <td>127.643327</td>\n",
       "    </tr>\n",
       "    <tr>\n",
       "      <th>64022</th>\n",
       "      <td>74z30</td>\n",
       "      <td>0.741456</td>\n",
       "      <td>0.459229</td>\n",
       "      <td>5.153109</td>\n",
       "      <td>140.771492</td>\n",
       "    </tr>\n",
       "    <tr>\n",
       "      <th>51970</th>\n",
       "      <td>A5aEY</td>\n",
       "      <td>-0.180335</td>\n",
       "      <td>0.935548</td>\n",
       "      <td>-2.094773</td>\n",
       "      <td>33.020205</td>\n",
       "    </tr>\n",
       "    <tr>\n",
       "      <th>3389</th>\n",
       "      <td>A5aEY</td>\n",
       "      <td>-0.039949</td>\n",
       "      <td>0.156872</td>\n",
       "      <td>0.209861</td>\n",
       "      <td>89.249364</td>\n",
       "    </tr>\n",
       "    <tr>\n",
       "      <th>69163</th>\n",
       "      <td>AGS9W</td>\n",
       "      <td>-0.933795</td>\n",
       "      <td>0.116194</td>\n",
       "      <td>-3.655896</td>\n",
       "      <td>19.230453</td>\n",
       "    </tr>\n",
       "    <tr>\n",
       "      <th>42529</th>\n",
       "      <td>AGS9W</td>\n",
       "      <td>1.454747</td>\n",
       "      <td>-0.479651</td>\n",
       "      <td>0.683380</td>\n",
       "      <td>126.370504</td>\n",
       "    </tr>\n",
       "    <tr>\n",
       "      <th>931</th>\n",
       "      <td>HZww2</td>\n",
       "      <td>0.755284</td>\n",
       "      <td>0.368511</td>\n",
       "      <td>1.863211</td>\n",
       "      <td>30.681774</td>\n",
       "    </tr>\n",
       "    <tr>\n",
       "      <th>7530</th>\n",
       "      <td>HZww2</td>\n",
       "      <td>1.061194</td>\n",
       "      <td>-0.373969</td>\n",
       "      <td>10.430210</td>\n",
       "      <td>158.828695</td>\n",
       "    </tr>\n",
       "    <tr>\n",
       "      <th>63593</th>\n",
       "      <td>QcMuo</td>\n",
       "      <td>0.635635</td>\n",
       "      <td>-0.473422</td>\n",
       "      <td>0.862670</td>\n",
       "      <td>64.578675</td>\n",
       "    </tr>\n",
       "    <tr>\n",
       "      <th>1949</th>\n",
       "      <td>QcMuo</td>\n",
       "      <td>0.506563</td>\n",
       "      <td>-0.323775</td>\n",
       "      <td>-2.215583</td>\n",
       "      <td>75.496502</td>\n",
       "    </tr>\n",
       "    <tr>\n",
       "      <th>75715</th>\n",
       "      <td>Tdehs</td>\n",
       "      <td>0.112079</td>\n",
       "      <td>0.430296</td>\n",
       "      <td>3.218993</td>\n",
       "      <td>60.964018</td>\n",
       "    </tr>\n",
       "    <tr>\n",
       "      <th>21426</th>\n",
       "      <td>Tdehs</td>\n",
       "      <td>0.829407</td>\n",
       "      <td>0.298807</td>\n",
       "      <td>-0.049563</td>\n",
       "      <td>96.035308</td>\n",
       "    </tr>\n",
       "    <tr>\n",
       "      <th>92341</th>\n",
       "      <td>TtcGQ</td>\n",
       "      <td>0.110711</td>\n",
       "      <td>1.022689</td>\n",
       "      <td>0.911381</td>\n",
       "      <td>101.318008</td>\n",
       "    </tr>\n",
       "    <tr>\n",
       "      <th>60140</th>\n",
       "      <td>TtcGQ</td>\n",
       "      <td>0.569276</td>\n",
       "      <td>-0.104876</td>\n",
       "      <td>6.440215</td>\n",
       "      <td>85.350186</td>\n",
       "    </tr>\n",
       "    <tr>\n",
       "      <th>89582</th>\n",
       "      <td>bsk9y</td>\n",
       "      <td>0.398908</td>\n",
       "      <td>-0.400253</td>\n",
       "      <td>10.122376</td>\n",
       "      <td>163.433078</td>\n",
       "    </tr>\n",
       "    <tr>\n",
       "      <th>97785</th>\n",
       "      <td>bsk9y</td>\n",
       "      <td>0.378429</td>\n",
       "      <td>0.005837</td>\n",
       "      <td>0.160827</td>\n",
       "      <td>160.637302</td>\n",
       "    </tr>\n",
       "    <tr>\n",
       "      <th>41724</th>\n",
       "      <td>bxg6G</td>\n",
       "      <td>-0.823752</td>\n",
       "      <td>0.546319</td>\n",
       "      <td>3.630479</td>\n",
       "      <td>93.007798</td>\n",
       "    </tr>\n",
       "    <tr>\n",
       "      <th>1364</th>\n",
       "      <td>bxg6G</td>\n",
       "      <td>0.411645</td>\n",
       "      <td>0.856830</td>\n",
       "      <td>-3.653440</td>\n",
       "      <td>73.604260</td>\n",
       "    </tr>\n",
       "    <tr>\n",
       "      <th>16633</th>\n",
       "      <td>fiKDv</td>\n",
       "      <td>0.157341</td>\n",
       "      <td>1.028359</td>\n",
       "      <td>5.585586</td>\n",
       "      <td>95.817889</td>\n",
       "    </tr>\n",
       "    <tr>\n",
       "      <th>90815</th>\n",
       "      <td>fiKDv</td>\n",
       "      <td>0.049883</td>\n",
       "      <td>0.841313</td>\n",
       "      <td>6.394613</td>\n",
       "      <td>137.346586</td>\n",
       "    </tr>\n",
       "  </tbody>\n",
       "</table>\n",
       "</div>"
      ],
      "text/plain": [
       "          id        f0        f1         f2     product\n",
       "66136  74z30  1.084962 -0.312358   6.990771  127.643327\n",
       "64022  74z30  0.741456  0.459229   5.153109  140.771492\n",
       "51970  A5aEY -0.180335  0.935548  -2.094773   33.020205\n",
       "3389   A5aEY -0.039949  0.156872   0.209861   89.249364\n",
       "69163  AGS9W -0.933795  0.116194  -3.655896   19.230453\n",
       "42529  AGS9W  1.454747 -0.479651   0.683380  126.370504\n",
       "931    HZww2  0.755284  0.368511   1.863211   30.681774\n",
       "7530   HZww2  1.061194 -0.373969  10.430210  158.828695\n",
       "63593  QcMuo  0.635635 -0.473422   0.862670   64.578675\n",
       "1949   QcMuo  0.506563 -0.323775  -2.215583   75.496502\n",
       "75715  Tdehs  0.112079  0.430296   3.218993   60.964018\n",
       "21426  Tdehs  0.829407  0.298807  -0.049563   96.035308\n",
       "92341  TtcGQ  0.110711  1.022689   0.911381  101.318008\n",
       "60140  TtcGQ  0.569276 -0.104876   6.440215   85.350186\n",
       "89582  bsk9y  0.398908 -0.400253  10.122376  163.433078\n",
       "97785  bsk9y  0.378429  0.005837   0.160827  160.637302\n",
       "41724  bxg6G -0.823752  0.546319   3.630479   93.007798\n",
       "1364   bxg6G  0.411645  0.856830  -3.653440   73.604260\n",
       "16633  fiKDv  0.157341  1.028359   5.585586   95.817889\n",
       "90815  fiKDv  0.049883  0.841313   6.394613  137.346586"
      ]
     },
     "execution_count": 5,
     "metadata": {},
     "output_type": "execute_result"
    }
   ],
   "source": [
    "#Замечаем, что по столбцу id имеется дубликаты, проверим\n",
    "geo_data_0.loc[geo_data_0['id'].duplicated(keep=False)].sort_values('id')"
   ]
  },
  {
   "cell_type": "code",
   "execution_count": 6,
   "metadata": {},
   "outputs": [
    {
     "data": {
      "image/png": "[encoded data removed]",
      "text/plain": [
       "<Figure size 432x288 with 2 Axes>"
      ]
     },
     "metadata": {
      "needs_background": "light"
     },
     "output_type": "display_data"
    }
   ],
   "source": [
    "drop_data_for_corr = ['id']\n",
    "sns.heatmap(geo_data_0.drop(drop_data_for_corr,axis=1).corr(),annot=True)\n",
    "plt.title('Матрица корреляции по количественным переменным Региона 1');"
   ]
  },
  {
   "cell_type": "markdown",
   "metadata": {},
   "source": [
    "**Промежуточный вывод**  \n",
    "В первом регионе:\n",
    "- нулевые значения отсутствуют.\n",
    "- имеются 10 дубликатов уникального id. Возможно ошибка при выгрузке данных, так как признаки данных различные между собой.   \n",
    "Цель нашего проекта выбрать регион, поэтому дубликаты оставим.\n",
    "\n",
    "- Среднее кол-во баррелей в регионе 1 - 92.5 тыс.\n",
    "- Распределение тыс. баррелей нормальное с 4 модами (50, 75, 100, 125)\n",
    "- все три признака держаься в диапозоне 10 е.и.\n",
    "- Зависимость между данными и признаками f0 и f1 слабая, однако замечается положительная корреляция между f2 и кол-вом баррелей в скважине "
   ]
  },
  {
   "cell_type": "markdown",
   "metadata": {},
   "source": [
    "### Информация о втором регионе"
   ]
  },
  {
   "cell_type": "code",
   "execution_count": 7,
   "metadata": {},
   "outputs": [
    {
     "data": {
      "text/plain": [
       "'Первые пять строк датасета'"
      ]
     },
     "metadata": {},
     "output_type": "display_data"
    },
    {
     "data": {
      "text/html": [
       "<div>\n",
       "<style scoped>\n",
       "    .dataframe tbody tr th:only-of-type {\n",
       "        vertical-align: middle;\n",
       "    }\n",
       "\n",
       "    .dataframe tbody tr th {\n",
       "        vertical-align: top;\n",
       "    }\n",
       "\n",
       "    .dataframe thead th {\n",
       "        text-align: right;\n",
       "    }\n",
       "</style>\n",
       "<table border=\"1\" class=\"dataframe\">\n",
       "  <thead>\n",
       "    <tr style=\"text-align: right;\">\n",
       "      <th></th>\n",
       "      <th>id</th>\n",
       "      <th>f0</th>\n",
       "      <th>f1</th>\n",
       "      <th>f2</th>\n",
       "      <th>product</th>\n",
       "    </tr>\n",
       "  </thead>\n",
       "  <tbody>\n",
       "    <tr>\n",
       "      <th>0</th>\n",
       "      <td>kBEdx</td>\n",
       "      <td>-15.001348</td>\n",
       "      <td>-8.276000</td>\n",
       "      <td>-0.005876</td>\n",
       "      <td>3.179103</td>\n",
       "    </tr>\n",
       "    <tr>\n",
       "      <th>1</th>\n",
       "      <td>62mP7</td>\n",
       "      <td>14.272088</td>\n",
       "      <td>-3.475083</td>\n",
       "      <td>0.999183</td>\n",
       "      <td>26.953261</td>\n",
       "    </tr>\n",
       "    <tr>\n",
       "      <th>2</th>\n",
       "      <td>vyE1P</td>\n",
       "      <td>6.263187</td>\n",
       "      <td>-5.948386</td>\n",
       "      <td>5.001160</td>\n",
       "      <td>134.766305</td>\n",
       "    </tr>\n",
       "    <tr>\n",
       "      <th>3</th>\n",
       "      <td>KcrkZ</td>\n",
       "      <td>-13.081196</td>\n",
       "      <td>-11.506057</td>\n",
       "      <td>4.999415</td>\n",
       "      <td>137.945408</td>\n",
       "    </tr>\n",
       "    <tr>\n",
       "      <th>4</th>\n",
       "      <td>AHL4O</td>\n",
       "      <td>12.702195</td>\n",
       "      <td>-8.147433</td>\n",
       "      <td>5.004363</td>\n",
       "      <td>134.766305</td>\n",
       "    </tr>\n",
       "  </tbody>\n",
       "</table>\n",
       "</div>"
      ],
      "text/plain": [
       "      id         f0         f1        f2     product\n",
       "0  kBEdx -15.001348  -8.276000 -0.005876    3.179103\n",
       "1  62mP7  14.272088  -3.475083  0.999183   26.953261\n",
       "2  vyE1P   6.263187  -5.948386  5.001160  134.766305\n",
       "3  KcrkZ -13.081196 -11.506057  4.999415  137.945408\n",
       "4  AHL4O  12.702195  -8.147433  5.004363  134.766305"
      ]
     },
     "metadata": {},
     "output_type": "display_data"
    },
    {
     "data": {
      "text/plain": [
       "'Информация о датасете'"
      ]
     },
     "metadata": {},
     "output_type": "display_data"
    },
    {
     "name": "stdout",
     "output_type": "stream",
     "text": [
      "<class 'pandas.core.frame.DataFrame'>\n",
      "RangeIndex: 100000 entries, 0 to 99999\n",
      "Data columns (total 5 columns):\n",
      " #   Column   Non-Null Count   Dtype  \n",
      "---  ------   --------------   -----  \n",
      " 0   id       100000 non-null  object \n",
      " 1   f0       100000 non-null  float64\n",
      " 2   f1       100000 non-null  float64\n",
      " 3   f2       100000 non-null  float64\n",
      " 4   product  100000 non-null  float64\n",
      "dtypes: float64(4), object(1)\n",
      "memory usage: 3.8+ MB\n"
     ]
    },
    {
     "data": {
      "text/plain": [
       "None"
      ]
     },
     "metadata": {},
     "output_type": "display_data"
    },
    {
     "data": {
      "text/plain": [
       "'Описание датасета'"
      ]
     },
     "metadata": {},
     "output_type": "display_data"
    },
    {
     "data": {
      "text/html": [
       "<div>\n",
       "<style scoped>\n",
       "    .dataframe tbody tr th:only-of-type {\n",
       "        vertical-align: middle;\n",
       "    }\n",
       "\n",
       "    .dataframe tbody tr th {\n",
       "        vertical-align: top;\n",
       "    }\n",
       "\n",
       "    .dataframe thead th {\n",
       "        text-align: right;\n",
       "    }\n",
       "</style>\n",
       "<table border=\"1\" class=\"dataframe\">\n",
       "  <thead>\n",
       "    <tr style=\"text-align: right;\">\n",
       "      <th></th>\n",
       "      <th>id</th>\n",
       "      <th>f0</th>\n",
       "      <th>f1</th>\n",
       "      <th>f2</th>\n",
       "      <th>product</th>\n",
       "    </tr>\n",
       "  </thead>\n",
       "  <tbody>\n",
       "    <tr>\n",
       "      <th>count</th>\n",
       "      <td>100000</td>\n",
       "      <td>100000.000000</td>\n",
       "      <td>100000.000000</td>\n",
       "      <td>100000.000000</td>\n",
       "      <td>100000.000000</td>\n",
       "    </tr>\n",
       "    <tr>\n",
       "      <th>unique</th>\n",
       "      <td>99996</td>\n",
       "      <td>NaN</td>\n",
       "      <td>NaN</td>\n",
       "      <td>NaN</td>\n",
       "      <td>NaN</td>\n",
       "    </tr>\n",
       "    <tr>\n",
       "      <th>top</th>\n",
       "      <td>LHZR0</td>\n",
       "      <td>NaN</td>\n",
       "      <td>NaN</td>\n",
       "      <td>NaN</td>\n",
       "      <td>NaN</td>\n",
       "    </tr>\n",
       "    <tr>\n",
       "      <th>freq</th>\n",
       "      <td>2</td>\n",
       "      <td>NaN</td>\n",
       "      <td>NaN</td>\n",
       "      <td>NaN</td>\n",
       "      <td>NaN</td>\n",
       "    </tr>\n",
       "    <tr>\n",
       "      <th>mean</th>\n",
       "      <td>NaN</td>\n",
       "      <td>1.141296</td>\n",
       "      <td>-4.796579</td>\n",
       "      <td>2.494541</td>\n",
       "      <td>68.825000</td>\n",
       "    </tr>\n",
       "    <tr>\n",
       "      <th>std</th>\n",
       "      <td>NaN</td>\n",
       "      <td>8.965932</td>\n",
       "      <td>5.119872</td>\n",
       "      <td>1.703572</td>\n",
       "      <td>45.944423</td>\n",
       "    </tr>\n",
       "    <tr>\n",
       "      <th>min</th>\n",
       "      <td>NaN</td>\n",
       "      <td>-31.609576</td>\n",
       "      <td>-26.358598</td>\n",
       "      <td>-0.018144</td>\n",
       "      <td>0.000000</td>\n",
       "    </tr>\n",
       "    <tr>\n",
       "      <th>25%</th>\n",
       "      <td>NaN</td>\n",
       "      <td>-6.298551</td>\n",
       "      <td>-8.267985</td>\n",
       "      <td>1.000021</td>\n",
       "      <td>26.953261</td>\n",
       "    </tr>\n",
       "    <tr>\n",
       "      <th>50%</th>\n",
       "      <td>NaN</td>\n",
       "      <td>1.153055</td>\n",
       "      <td>-4.813172</td>\n",
       "      <td>2.011479</td>\n",
       "      <td>57.085625</td>\n",
       "    </tr>\n",
       "    <tr>\n",
       "      <th>75%</th>\n",
       "      <td>NaN</td>\n",
       "      <td>8.621015</td>\n",
       "      <td>-1.332816</td>\n",
       "      <td>3.999904</td>\n",
       "      <td>107.813044</td>\n",
       "    </tr>\n",
       "    <tr>\n",
       "      <th>max</th>\n",
       "      <td>NaN</td>\n",
       "      <td>29.421755</td>\n",
       "      <td>18.734063</td>\n",
       "      <td>5.019721</td>\n",
       "      <td>137.945408</td>\n",
       "    </tr>\n",
       "  </tbody>\n",
       "</table>\n",
       "</div>"
      ],
      "text/plain": [
       "            id             f0             f1             f2        product\n",
       "count   100000  100000.000000  100000.000000  100000.000000  100000.000000\n",
       "unique   99996            NaN            NaN            NaN            NaN\n",
       "top      LHZR0            NaN            NaN            NaN            NaN\n",
       "freq         2            NaN            NaN            NaN            NaN\n",
       "mean       NaN       1.141296      -4.796579       2.494541      68.825000\n",
       "std        NaN       8.965932       5.119872       1.703572      45.944423\n",
       "min        NaN     -31.609576     -26.358598      -0.018144       0.000000\n",
       "25%        NaN      -6.298551      -8.267985       1.000021      26.953261\n",
       "50%        NaN       1.153055      -4.813172       2.011479      57.085625\n",
       "75%        NaN       8.621015      -1.332816       3.999904     107.813044\n",
       "max        NaN      29.421755      18.734063       5.019721     137.945408"
      ]
     },
     "metadata": {},
     "output_type": "display_data"
    },
    {
     "data": {
      "text/plain": [
       "'Гистограммы'"
      ]
     },
     "metadata": {},
     "output_type": "display_data"
    },
    {
     "data": {
      "text/plain": [
       "array([[<AxesSubplot:title={'center':'f0'}>,\n",
       "        <AxesSubplot:title={'center':'f1'}>],\n",
       "       [<AxesSubplot:title={'center':'f2'}>,\n",
       "        <AxesSubplot:title={'center':'product'}>]], dtype=object)"
      ]
     },
     "metadata": {},
     "output_type": "display_data"
    },
    {
     "data": {
      "image/png": "[encoded data removed]",
      "text/plain": [
       "<Figure size 720x720 with 4 Axes>"
      ]
     },
     "metadata": {
      "needs_background": "light"
     },
     "output_type": "display_data"
    }
   ],
   "source": [
    "dataset_info(geo_data_1)"
   ]
  },
  {
   "cell_type": "code",
   "execution_count": 8,
   "metadata": {},
   "outputs": [
    {
     "data": {
      "image/png": "[encoded data removed]",
      "text/plain": [
       "<Figure size 432x288 with 2 Axes>"
      ]
     },
     "metadata": {
      "needs_background": "light"
     },
     "output_type": "display_data"
    }
   ],
   "source": [
    "drop_data_for_corr = ['id']\n",
    "sns.heatmap(geo_data_1.drop(drop_data_for_corr,axis=1).corr(),annot=True)\n",
    "plt.title('Матрица корреляции по количественным переменным Региона 2');"
   ]
  },
  {
   "cell_type": "markdown",
   "metadata": {},
   "source": [
    "**Промежуточный вывод**  \n",
    "Во втором регионе:\n",
    "- нулевые значения отсутствуют.\n",
    "- имеются 4 дубликата уникального id. Возможно ошибка при выгрузке данных, так как признаки данных различные между собой.   \n",
    "Цель нашего проекта выбрать регион, поэтому дубликаты оставим.\n",
    "\n",
    "- Среднее кол-во баррелей в регионе 1 - 68.825 тыс.\n",
    "- Замечаем 2 моды (0 и 130), распределено дискретно.\n",
    "- Полная линейная зависимость между признаком f2 и product. В основном это является проблемой, так как модель будет игнорировать значения других признаков при прогнозе. Но оставим данный признак, так как его исключение повлияет на качество модели."
   ]
  },
  {
   "cell_type": "markdown",
   "metadata": {},
   "source": [
    "### Информация о третьем регионе"
   ]
  },
  {
   "cell_type": "code",
   "execution_count": 9,
   "metadata": {
    "scrolled": false
   },
   "outputs": [
    {
     "data": {
      "text/plain": [
       "'Первые пять строк датасета'"
      ]
     },
     "metadata": {},
     "output_type": "display_data"
    },
    {
     "data": {
      "text/html": [
       "<div>\n",
       "<style scoped>\n",
       "    .dataframe tbody tr th:only-of-type {\n",
       "        vertical-align: middle;\n",
       "    }\n",
       "\n",
       "    .dataframe tbody tr th {\n",
       "        vertical-align: top;\n",
       "    }\n",
       "\n",
       "    .dataframe thead th {\n",
       "        text-align: right;\n",
       "    }\n",
       "</style>\n",
       "<table border=\"1\" class=\"dataframe\">\n",
       "  <thead>\n",
       "    <tr style=\"text-align: right;\">\n",
       "      <th></th>\n",
       "      <th>id</th>\n",
       "      <th>f0</th>\n",
       "      <th>f1</th>\n",
       "      <th>f2</th>\n",
       "      <th>product</th>\n",
       "    </tr>\n",
       "  </thead>\n",
       "  <tbody>\n",
       "    <tr>\n",
       "      <th>0</th>\n",
       "      <td>fwXo0</td>\n",
       "      <td>-1.146987</td>\n",
       "      <td>0.963328</td>\n",
       "      <td>-0.828965</td>\n",
       "      <td>27.758673</td>\n",
       "    </tr>\n",
       "    <tr>\n",
       "      <th>1</th>\n",
       "      <td>WJtFt</td>\n",
       "      <td>0.262778</td>\n",
       "      <td>0.269839</td>\n",
       "      <td>-2.530187</td>\n",
       "      <td>56.069697</td>\n",
       "    </tr>\n",
       "    <tr>\n",
       "      <th>2</th>\n",
       "      <td>ovLUW</td>\n",
       "      <td>0.194587</td>\n",
       "      <td>0.289035</td>\n",
       "      <td>-5.586433</td>\n",
       "      <td>62.871910</td>\n",
       "    </tr>\n",
       "    <tr>\n",
       "      <th>3</th>\n",
       "      <td>q6cA6</td>\n",
       "      <td>2.236060</td>\n",
       "      <td>-0.553760</td>\n",
       "      <td>0.930038</td>\n",
       "      <td>114.572842</td>\n",
       "    </tr>\n",
       "    <tr>\n",
       "      <th>4</th>\n",
       "      <td>WPMUX</td>\n",
       "      <td>-0.515993</td>\n",
       "      <td>1.716266</td>\n",
       "      <td>5.899011</td>\n",
       "      <td>149.600746</td>\n",
       "    </tr>\n",
       "  </tbody>\n",
       "</table>\n",
       "</div>"
      ],
      "text/plain": [
       "      id        f0        f1        f2     product\n",
       "0  fwXo0 -1.146987  0.963328 -0.828965   27.758673\n",
       "1  WJtFt  0.262778  0.269839 -2.530187   56.069697\n",
       "2  ovLUW  0.194587  0.289035 -5.586433   62.871910\n",
       "3  q6cA6  2.236060 -0.553760  0.930038  114.572842\n",
       "4  WPMUX -0.515993  1.716266  5.899011  149.600746"
      ]
     },
     "metadata": {},
     "output_type": "display_data"
    },
    {
     "data": {
      "text/plain": [
       "'Информация о датасете'"
      ]
     },
     "metadata": {},
     "output_type": "display_data"
    },
    {
     "name": "stdout",
     "output_type": "stream",
     "text": [
      "<class 'pandas.core.frame.DataFrame'>\n",
      "RangeIndex: 100000 entries, 0 to 99999\n",
      "Data columns (total 5 columns):\n",
      " #   Column   Non-Null Count   Dtype  \n",
      "---  ------   --------------   -----  \n",
      " 0   id       100000 non-null  object \n",
      " 1   f0       100000 non-null  float64\n",
      " 2   f1       100000 non-null  float64\n",
      " 3   f2       100000 non-null  float64\n",
      " 4   product  100000 non-null  float64\n",
      "dtypes: float64(4), object(1)\n",
      "memory usage: 3.8+ MB\n"
     ]
    },
    {
     "data": {
      "text/plain": [
       "None"
      ]
     },
     "metadata": {},
     "output_type": "display_data"
    },
    {
     "data": {
      "text/plain": [
       "'Описание датасета'"
      ]
     },
     "metadata": {},
     "output_type": "display_data"
    },
    {
     "data": {
      "text/html": [
       "<div>\n",
       "<style scoped>\n",
       "    .dataframe tbody tr th:only-of-type {\n",
       "        vertical-align: middle;\n",
       "    }\n",
       "\n",
       "    .dataframe tbody tr th {\n",
       "        vertical-align: top;\n",
       "    }\n",
       "\n",
       "    .dataframe thead th {\n",
       "        text-align: right;\n",
       "    }\n",
       "</style>\n",
       "<table border=\"1\" class=\"dataframe\">\n",
       "  <thead>\n",
       "    <tr style=\"text-align: right;\">\n",
       "      <th></th>\n",
       "      <th>id</th>\n",
       "      <th>f0</th>\n",
       "      <th>f1</th>\n",
       "      <th>f2</th>\n",
       "      <th>product</th>\n",
       "    </tr>\n",
       "  </thead>\n",
       "  <tbody>\n",
       "    <tr>\n",
       "      <th>count</th>\n",
       "      <td>100000</td>\n",
       "      <td>100000.000000</td>\n",
       "      <td>100000.000000</td>\n",
       "      <td>100000.000000</td>\n",
       "      <td>100000.000000</td>\n",
       "    </tr>\n",
       "    <tr>\n",
       "      <th>unique</th>\n",
       "      <td>99996</td>\n",
       "      <td>NaN</td>\n",
       "      <td>NaN</td>\n",
       "      <td>NaN</td>\n",
       "      <td>NaN</td>\n",
       "    </tr>\n",
       "    <tr>\n",
       "      <th>top</th>\n",
       "      <td>VF7Jo</td>\n",
       "      <td>NaN</td>\n",
       "      <td>NaN</td>\n",
       "      <td>NaN</td>\n",
       "      <td>NaN</td>\n",
       "    </tr>\n",
       "    <tr>\n",
       "      <th>freq</th>\n",
       "      <td>2</td>\n",
       "      <td>NaN</td>\n",
       "      <td>NaN</td>\n",
       "      <td>NaN</td>\n",
       "      <td>NaN</td>\n",
       "    </tr>\n",
       "    <tr>\n",
       "      <th>mean</th>\n",
       "      <td>NaN</td>\n",
       "      <td>0.002023</td>\n",
       "      <td>-0.002081</td>\n",
       "      <td>2.495128</td>\n",
       "      <td>95.000000</td>\n",
       "    </tr>\n",
       "    <tr>\n",
       "      <th>std</th>\n",
       "      <td>NaN</td>\n",
       "      <td>1.732045</td>\n",
       "      <td>1.730417</td>\n",
       "      <td>3.473445</td>\n",
       "      <td>44.749921</td>\n",
       "    </tr>\n",
       "    <tr>\n",
       "      <th>min</th>\n",
       "      <td>NaN</td>\n",
       "      <td>-8.760004</td>\n",
       "      <td>-7.084020</td>\n",
       "      <td>-11.970335</td>\n",
       "      <td>0.000000</td>\n",
       "    </tr>\n",
       "    <tr>\n",
       "      <th>25%</th>\n",
       "      <td>NaN</td>\n",
       "      <td>-1.162288</td>\n",
       "      <td>-1.174820</td>\n",
       "      <td>0.130359</td>\n",
       "      <td>59.450441</td>\n",
       "    </tr>\n",
       "    <tr>\n",
       "      <th>50%</th>\n",
       "      <td>NaN</td>\n",
       "      <td>0.009424</td>\n",
       "      <td>-0.009482</td>\n",
       "      <td>2.484236</td>\n",
       "      <td>94.925613</td>\n",
       "    </tr>\n",
       "    <tr>\n",
       "      <th>75%</th>\n",
       "      <td>NaN</td>\n",
       "      <td>1.158535</td>\n",
       "      <td>1.163678</td>\n",
       "      <td>4.858794</td>\n",
       "      <td>130.595027</td>\n",
       "    </tr>\n",
       "    <tr>\n",
       "      <th>max</th>\n",
       "      <td>NaN</td>\n",
       "      <td>7.238262</td>\n",
       "      <td>7.844801</td>\n",
       "      <td>16.739402</td>\n",
       "      <td>190.029838</td>\n",
       "    </tr>\n",
       "  </tbody>\n",
       "</table>\n",
       "</div>"
      ],
      "text/plain": [
       "            id             f0             f1             f2        product\n",
       "count   100000  100000.000000  100000.000000  100000.000000  100000.000000\n",
       "unique   99996            NaN            NaN            NaN            NaN\n",
       "top      VF7Jo            NaN            NaN            NaN            NaN\n",
       "freq         2            NaN            NaN            NaN            NaN\n",
       "mean       NaN       0.002023      -0.002081       2.495128      95.000000\n",
       "std        NaN       1.732045       1.730417       3.473445      44.749921\n",
       "min        NaN      -8.760004      -7.084020     -11.970335       0.000000\n",
       "25%        NaN      -1.162288      -1.174820       0.130359      59.450441\n",
       "50%        NaN       0.009424      -0.009482       2.484236      94.925613\n",
       "75%        NaN       1.158535       1.163678       4.858794     130.595027\n",
       "max        NaN       7.238262       7.844801      16.739402     190.029838"
      ]
     },
     "metadata": {},
     "output_type": "display_data"
    },
    {
     "data": {
      "text/plain": [
       "'Гистограммы'"
      ]
     },
     "metadata": {},
     "output_type": "display_data"
    },
    {
     "data": {
      "text/plain": [
       "array([[<AxesSubplot:title={'center':'f0'}>,\n",
       "        <AxesSubplot:title={'center':'f1'}>],\n",
       "       [<AxesSubplot:title={'center':'f2'}>,\n",
       "        <AxesSubplot:title={'center':'product'}>]], dtype=object)"
      ]
     },
     "metadata": {},
     "output_type": "display_data"
    },
    {
     "data": {
      "image/png": "[encoded data removed]",
      "text/plain": [
       "<Figure size 720x720 with 4 Axes>"
      ]
     },
     "metadata": {
      "needs_background": "light"
     },
     "output_type": "display_data"
    }
   ],
   "source": [
    "dataset_info(geo_data_2)"
   ]
  },
  {
   "cell_type": "code",
   "execution_count": 10,
   "metadata": {},
   "outputs": [
    {
     "data": {
      "image/png": "[encoded data removed]",
      "text/plain": [
       "<Figure size 432x288 with 2 Axes>"
      ]
     },
     "metadata": {
      "needs_background": "light"
     },
     "output_type": "display_data"
    }
   ],
   "source": [
    "drop_data_for_corr = ['id']\n",
    "sns.heatmap(geo_data_2.drop(drop_data_for_corr,axis=1).corr(),annot=True)\n",
    "plt.title('Матрица корреляции по количественным переменным Региона 2');"
   ]
  },
  {
   "cell_type": "markdown",
   "metadata": {},
   "source": [
    "**Промежуточный вывод**  \n",
    "В третьем регионе:\n",
    "- нулевые значения отсутствуют.\n",
    "- имеются 4 дубликата уникального id. Возможно ошибка при выгрузке данных, так как признаки данных различные между собой.   \n",
    "Цель нашего проекта выбрать регион, поэтому дубликаты оставим.\n",
    "\n",
    "- Среднее кол-во баррелей в регионе 2 - 95.0 тыс.\n",
    "- Распределение тыс. баррелей нормальное с 4 модами (50, 75, 100, 125)\n",
    "- все три признака держаься в диапозоне 10 е.и.\n",
    "- Зависимость между данными и признаками f0 и f1 слабая, однако замечается положительная корреляция между f2 и кол-вом баррелей в скважине "
   ]
  },
  {
   "cell_type": "markdown",
   "metadata": {},
   "source": [
    "### Общий вывод по первому разделу"
   ]
  },
  {
   "cell_type": "markdown",
   "metadata": {},
   "source": [
    "По первичной информации о каждом регионе имеем:\n",
    "- сильная зависимость во втором регионе признака f2 от product, такая зависмость можеть дать нам высокие баллы предсказаний для нашей модели.\n",
    "- Столбец product является целевым признаком\n",
    "- Высокое среднее кол-во в регионе 1 (95.5 тыс. баррелей) и в регионе 2 (95 тыс. баррелей)\n",
    "- Имеются дубликаты, но на основую цель проекта не повлияют. Столбец id можно исключить со всех датафреймов, так как не несет в себе дополнительной информации."
   ]
  },
  {
   "cell_type": "markdown",
   "metadata": {},
   "source": [
    "## Обучение и проверка модели"
   ]
  },
  {
   "cell_type": "markdown",
   "metadata": {},
   "source": [
    "Исключим столбец id из каждого датасета"
   ]
  },
  {
   "cell_type": "code",
   "execution_count": 11,
   "metadata": {},
   "outputs": [],
   "source": [
    "geo_data_0 = geo_data_0.drop('id',axis=1)\n",
    "geo_data_1 = geo_data_1.drop('id',axis=1)\n",
    "geo_data_2 = geo_data_2.drop('id',axis=1)"
   ]
  },
  {
   "cell_type": "markdown",
   "metadata": {},
   "source": [
    "### Разобьём данные на обучающую и валидационную выборки в соотношении 75:25"
   ]
  },
  {
   "cell_type": "code",
   "execution_count": 12,
   "metadata": {},
   "outputs": [],
   "source": [
    "target_0 = geo_data_0['product']\n",
    "features_0 = geo_data_0.drop(['product'], axis=1)\n",
    "\n",
    "target_1 = geo_data_1['product']\n",
    "features_1 = geo_data_1.drop(['product'], axis=1)\n",
    "\n",
    "target_2 = geo_data_2['product']\n",
    "features_2 = geo_data_2.drop(['product'], axis=1)"
   ]
  },
  {
   "cell_type": "markdown",
   "metadata": {},
   "source": [
    "#### Деление на тренировочну и валидационную выборки по 1 региону"
   ]
  },
  {
   "cell_type": "code",
   "execution_count": 13,
   "metadata": {},
   "outputs": [
    {
     "name": "stdout",
     "output_type": "stream",
     "text": [
      "Размер обучающей выборки(75000, 3), целевого тренировочного признака(75000,)\n",
      "Размер валидационной выборки(25000, 3), целевого валидационного признака(25000,)\n"
     ]
    }
   ],
   "source": [
    "features_train_0, features_valid_0,\\\n",
    "target_train_0, target_valid_0 = \\\n",
    "train_test_split(features_0, \n",
    "                 target_0, \n",
    "                 test_size=0.25, \n",
    "                 random_state=12345)\n",
    "\n",
    "print(f'Размер обучающей выборки{features_train_0.shape}, целевого тренировочного признака{target_train_0.shape}')\n",
    "print(f'Размер валидационной выборки{features_valid_0.shape}, целевого валидационного признака{target_valid_0.shape}')"
   ]
  },
  {
   "cell_type": "markdown",
   "metadata": {},
   "source": [
    "#### Деление на тренировочну и валидационную выборки по 2 региону"
   ]
  },
  {
   "cell_type": "code",
   "execution_count": 14,
   "metadata": {},
   "outputs": [
    {
     "name": "stdout",
     "output_type": "stream",
     "text": [
      "Размер обучающей выборки(75000, 3), целевого тренировочного признака(75000,)\n",
      "Размер валидационной выборки(25000, 3), целевого валидационного признака(25000,)\n"
     ]
    }
   ],
   "source": [
    "features_train_1, features_valid_1,\\\n",
    "target_train_1, target_valid_1 = \\\n",
    "train_test_split(features_1, \n",
    "                 target_1, \n",
    "                 test_size=0.25, \n",
    "                 random_state=12345)\n",
    "\n",
    "print(f'Размер обучающей выборки{features_train_1.shape}, целевого тренировочного признака{target_train_1.shape}')\n",
    "print(f'Размер валидационной выборки{features_valid_1.shape}, целевого валидационного признака{target_valid_1.shape}')"
   ]
  },
  {
   "cell_type": "markdown",
   "metadata": {},
   "source": [
    "#### Деление на тренировочну и валидационную выборки по 3 региону"
   ]
  },
  {
   "cell_type": "code",
   "execution_count": 15,
   "metadata": {},
   "outputs": [
    {
     "name": "stdout",
     "output_type": "stream",
     "text": [
      "Размер обучающей выборки(75000, 3), целевого тренировочного признака(75000,)\n",
      "Размер валидационной выборки(25000, 3), целевого валидационного признака(25000,)\n"
     ]
    }
   ],
   "source": [
    "features_train_2, features_valid_2,\\\n",
    "target_train_2, target_valid_2 = \\\n",
    "train_test_split(features_2, \n",
    "                 target_2, \n",
    "                 test_size=0.25, \n",
    "                 random_state=12345)\n",
    "\n",
    "print(f'Размер обучающей выборки{features_train_2.shape}, целевого тренировочного признака{target_train_2.shape}')\n",
    "print(f'Размер валидационной выборки{features_valid_2.shape}, целевого валидационного признака{target_valid_2.shape}')"
   ]
  },
  {
   "cell_type": "markdown",
   "metadata": {},
   "source": [
    "### Обучим модель и сделаем предсказания на валидационной выборке, а так же оценим качество модели техникой RMSEи коэффициентом детерминации R2"
   ]
  },
  {
   "cell_type": "markdown",
   "metadata": {},
   "source": [
    "#### Модель линейная регрессия первого региона"
   ]
  },
  {
   "cell_type": "code",
   "execution_count": 16,
   "metadata": {},
   "outputs": [
    {
     "name": "stdout",
     "output_type": "stream",
     "text": [
      "Среднее абсолютное отклонение MAE: 30.92\n",
      "Среднеквадратичная ошибка MSE: 1412.21\n",
      "RMSE: 37.58\n",
      "Коэффициент детерминации: 0.28\n"
     ]
    }
   ],
   "source": [
    "model_0 = LinearRegression()\n",
    "model_0.fit(features_train_0,target_train_0)\n",
    "predict_0 = model_0.predict(features_valid_0)\n",
    "mse_0 = mean_squared_error(target_valid_0, predict_0)\n",
    "rmse_0 = mse_0**0.5\n",
    "mae_0 = mean_absolute_error(target_valid_0, predict_0)\n",
    "print('Среднее абсолютное отклонение MAE: %.2f'% mae_0)\n",
    "print('Среднеквадратичная ошибка MSE: %.2f'% mse_0)\n",
    "print('RMSE: %.2f'% rmse_0)\n",
    "print('Коэффициент детерминации: %.2f' % r2_score(target_valid_0, predict_0))"
   ]
  },
  {
   "cell_type": "markdown",
   "metadata": {},
   "source": [
    "#### Модель линейная регрессия второго региона"
   ]
  },
  {
   "cell_type": "code",
   "execution_count": 17,
   "metadata": {},
   "outputs": [
    {
     "name": "stdout",
     "output_type": "stream",
     "text": [
      "Среднее абсолютное отклонение MAE: 0.72\n",
      "Среднеквадратичная ошибка MSE: 0.80\n",
      "RMSE: 0.89\n",
      "Коэффициент детерминации: 1.00\n"
     ]
    }
   ],
   "source": [
    "model_1 = LinearRegression()\n",
    "model_1.fit(features_train_1,target_train_1)\n",
    "predict_1 = model_1.predict(features_valid_1)\n",
    "mse_1 = mean_squared_error(target_valid_1, predict_1)\n",
    "rmse_1 = mse_1**0.5\n",
    "mae_1 = mean_absolute_error(target_valid_1, predict_1)\n",
    "print('Среднее абсолютное отклонение MAE: %.2f'% mae_1)\n",
    "print('Среднеквадратичная ошибка MSE: %.2f'% mse_1)\n",
    "print('RMSE: %.2f'% rmse_1)\n",
    "print('Коэффициент детерминации: %.2f' % r2_score(target_valid_1, predict_1))"
   ]
  },
  {
   "cell_type": "markdown",
   "metadata": {},
   "source": [
    "#### Модель линейная регрессия третьего региона"
   ]
  },
  {
   "cell_type": "code",
   "execution_count": 18,
   "metadata": {},
   "outputs": [
    {
     "name": "stdout",
     "output_type": "stream",
     "text": [
      "Среднее абсолютное отклонение MAE: 32.79\n",
      "Среднеквадратичная ошибка MSE: 1602.38\n",
      "RMSE: 40.03\n",
      "Коэффициент детерминации: 0.21\n"
     ]
    }
   ],
   "source": [
    "model_2 = LinearRegression()\n",
    "model_2.fit(features_train_2,target_train_2)\n",
    "predict_2 = model_2.predict(features_valid_2)\n",
    "mse_2 = mean_squared_error(target_valid_2, predict_2)\n",
    "rmse_2 = mse_2**0.5\n",
    "mae_2 = mean_absolute_error(target_valid_2, predict_2)\n",
    "print('Среднее абсолютное отклонение MAE: %.2f'% mae_2)\n",
    "print('Среднеквадратичная ошибка MSE: %.2f'% mse_2)\n",
    "print('RMSE: %.2f'% rmse_2)\n",
    "print('Коэффициент детерминации: %.2f' % r2_score(target_valid_2, predict_2))"
   ]
  },
  {
   "cell_type": "markdown",
   "metadata": {},
   "source": [
    "### Сохраним предсказания и правильные ответы на валидационной выборке"
   ]
  },
  {
   "cell_type": "code",
   "execution_count": 19,
   "metadata": {},
   "outputs": [
    {
     "name": "stdout",
     "output_type": "stream",
     "text": [
      "1 регион:\n",
      "- предсказания модели хранятся в переменной: \"predict_0\"\n",
      "- правильные ответы: \"target_valid_0\"\n",
      "\n",
      "2 регион:\n",
      "- предсказания модели хранятся в переменной: \"predict_1\"\n",
      "- правильные ответы: \"target_valid_1\"\n",
      "\n",
      "3 регион:\n",
      "- предсказания модели хранятся в переменной: \"predict_2\"\n",
      "- правильные ответы: \"target_valid_2\"\n"
     ]
    }
   ],
   "source": [
    "print(f'1 регион:\\n- предсказания модели хранятся в переменной: \"predict_0\"\\n- правильные ответы: \"target_valid_0\"')\n",
    "print()\n",
    "print('2 регион:\\n- предсказания модели хранятся в переменной: \"predict_1\"\\n- правильные ответы: \"target_valid_1\"')\n",
    "print()\n",
    "print('3 регион:\\n- предсказания модели хранятся в переменной: \"predict_2\"\\n- правильные ответы: \"target_valid_2\"')"
   ]
  },
  {
   "cell_type": "markdown",
   "metadata": {},
   "source": [
    "### Напечатаем на экране средний запас предсказанного сырья и RMSE модели"
   ]
  },
  {
   "cell_type": "code",
   "execution_count": 20,
   "metadata": {},
   "outputs": [
    {
     "data": {
      "text/html": [
       "<div>\n",
       "<style scoped>\n",
       "    .dataframe tbody tr th:only-of-type {\n",
       "        vertical-align: middle;\n",
       "    }\n",
       "\n",
       "    .dataframe tbody tr th {\n",
       "        vertical-align: top;\n",
       "    }\n",
       "\n",
       "    .dataframe thead th {\n",
       "        text-align: right;\n",
       "    }\n",
       "</style>\n",
       "<table border=\"1\" class=\"dataframe\">\n",
       "  <thead>\n",
       "    <tr style=\"text-align: right;\">\n",
       "      <th></th>\n",
       "      <th>1_region</th>\n",
       "      <th>2_region</th>\n",
       "      <th>3_region</th>\n",
       "    </tr>\n",
       "  </thead>\n",
       "  <tbody>\n",
       "    <tr>\n",
       "      <th>mean_pred_resources</th>\n",
       "      <td>92.592568</td>\n",
       "      <td>68.728547</td>\n",
       "      <td>94.965046</td>\n",
       "    </tr>\n",
       "    <tr>\n",
       "      <th>RMSE_model</th>\n",
       "      <td>37.579422</td>\n",
       "      <td>0.893099</td>\n",
       "      <td>40.029709</td>\n",
       "    </tr>\n",
       "  </tbody>\n",
       "</table>\n",
       "</div>"
      ],
      "text/plain": [
       "                      1_region   2_region   3_region\n",
       "mean_pred_resources  92.592568  68.728547  94.965046\n",
       "RMSE_model           37.579422   0.893099  40.029709"
      ]
     },
     "execution_count": 20,
     "metadata": {},
     "output_type": "execute_result"
    }
   ],
   "source": [
    "total_m_pred = pd.DataFrame(index=['mean_pred_resources','RMSE_model'])\n",
    "total_m_pred['1_region'] = [predict_0.mean(), rmse_0]\n",
    "total_m_pred['2_region'] = [predict_1.mean(), rmse_1]\n",
    "total_m_pred['3_region'] = [predict_2.mean(), rmse_2]\n",
    "total_m_pred"
   ]
  },
  {
   "cell_type": "markdown",
   "metadata": {},
   "source": [
    "### Общий вывод по второму разделу"
   ]
  },
  {
   "cell_type": "markdown",
   "metadata": {},
   "source": [
    "Замечаем, что лучше всего себя показала модель по второму региону:\n",
    "- Среднее абсолютное отклонение MAE: 0.72\n",
    "- Среднеквадратичная ошибка MSE: 0.80\n",
    "- RMSE: 0.89\n",
    "- Коэффициент детерминации: 1.00\n",
    "Причина в линейной зависимости признака f2 от product.  \n",
    "\n",
    "Среднее предсказанное значение сырья и RSME моделей следующие:  \n",
    "\n",
    "| Значения | Первый регион | Второй регион | Третий регион |\n",
    "| --- | --- | --- | --- |\n",
    "| Средний запас предсказанного сырья, тыс. баррелей | 92.592568 | 68.728547 | 94.965046 |\n",
    "| RSME модели | 37.579422 | 0.893099 | 40.029709 |  \n",
    "\n",
    "Больше всего среднее значение тыс. баррелей в третьем регионе"
   ]
  },
  {
   "cell_type": "markdown",
   "metadata": {},
   "source": [
    "## Подготовка к расчёту прибыли"
   ]
  },
  {
   "cell_type": "markdown",
   "metadata": {},
   "source": [
    "### Ключевые значения для расчетов"
   ]
  },
  {
   "cell_type": "markdown",
   "metadata": {},
   "source": [
    "При разведке региона исследуюем **500** точек, из которых с помощью машинного обучения выберем **200** лучших для разработки.\n",
    "Бюджет на разработку скважин в регионе — **10 млрд рублей**.  \n",
    "\n",
    "При нынешних ценах один баррель сырья приносит **450 рублей дохода**. Доход с каждой единицы продукта составляет **450 тыс.\n",
    "рублей**, поскольку объём указан в тысячах баррелей.  \n",
    "\n",
    "После оценки рисков оставим лишь те регионы, в которых вероятность убытков меньше **2.5%**. Среди них выберем регион с наибольшей средней прибылью."
   ]
  },
  {
   "cell_type": "code",
   "execution_count": 21,
   "metadata": {},
   "outputs": [],
   "source": [
    "budget = 10000000 \n",
    "#бюджет на разработку скважин в регионе, тыс.руб\n",
    "income_one_prod = 450 \n",
    "#доход с каждой единицы продукта, тыс.руб\n",
    "target_probability_losses = 2.5/100 \n",
    "# вероятность убытков\n",
    "product_mean_0 = geo_data_0['product'].mean()\n",
    "product_mean_1 = geo_data_1['product'].mean()\n",
    "product_mean_2 = geo_data_2['product'].mean()"
   ]
  },
  {
   "cell_type": "code",
   "execution_count": 22,
   "metadata": {},
   "outputs": [
    {
     "name": "stdout",
     "output_type": "stream",
     "text": [
      "Cредний запас сырья в 1 регионе: 92.50 тыс.баррелей\n",
      "Cредний запас сырья в 2 регионе: 68.83 тыс.баррелей\n",
      "Cредний запас сырья в 3 регионе: 95.00 тыс.баррелей\n"
     ]
    }
   ],
   "source": [
    "print('Cредний запас сырья в 1 регионе: %.2f тыс.баррелей'%product_mean_0)\n",
    "print('Cредний запас сырья в 2 регионе: %.2f тыс.баррелей'%product_mean_1)\n",
    "print('Cредний запас сырья в 3 регионе: %.2f тыс.баррелей'%product_mean_2)"
   ]
  },
  {
   "cell_type": "code",
   "execution_count": 23,
   "metadata": {},
   "outputs": [
    {
     "name": "stdout",
     "output_type": "stream",
     "text": [
      "Бюджет на разработку одной скважины: 50.0 млн.руб\n"
     ]
    }
   ],
   "source": [
    "budg_per_1_point=(budget/200)# тыс.руб\n",
    "print('Бюджет на разработку одной скважины:', budg_per_1_point/1000,'млн.руб')"
   ]
  },
  {
   "cell_type": "code",
   "execution_count": 24,
   "metadata": {},
   "outputs": [
    {
     "name": "stdout",
     "output_type": "stream",
     "text": [
      "Объём каждой скважины для безубыточной разработки должен составлять не менее: 111.11 тыс.баррелей\n"
     ]
    }
   ],
   "source": [
    "v_prod=budg_per_1_point/income_one_prod\n",
    "print('Объём каждой скважины для безубыточной разработки должен составлять не менее: %.2f'%v_prod,'тыс.баррелей')"
   ]
  },
  {
   "cell_type": "markdown",
   "metadata": {},
   "source": [
    "### Сравним безубыточный объём сырья со средним запасом в каждом регионе"
   ]
  },
  {
   "cell_type": "code",
   "execution_count": 25,
   "metadata": {},
   "outputs": [
    {
     "data": {
      "text/html": [
       "<div>\n",
       "<style scoped>\n",
       "    .dataframe tbody tr th:only-of-type {\n",
       "        vertical-align: middle;\n",
       "    }\n",
       "\n",
       "    .dataframe tbody tr th {\n",
       "        vertical-align: top;\n",
       "    }\n",
       "\n",
       "    .dataframe thead th {\n",
       "        text-align: right;\n",
       "    }\n",
       "</style>\n",
       "<table border=\"1\" class=\"dataframe\">\n",
       "  <thead>\n",
       "    <tr style=\"text-align: right;\">\n",
       "      <th></th>\n",
       "      <th>f0</th>\n",
       "      <th>f1</th>\n",
       "      <th>f2</th>\n",
       "      <th>product</th>\n",
       "      <th>profit</th>\n",
       "    </tr>\n",
       "  </thead>\n",
       "  <tbody>\n",
       "    <tr>\n",
       "      <th>0</th>\n",
       "      <td>0.705745</td>\n",
       "      <td>-0.497823</td>\n",
       "      <td>1.221170</td>\n",
       "      <td>105.280062</td>\n",
       "      <td>47376.03</td>\n",
       "    </tr>\n",
       "    <tr>\n",
       "      <th>1</th>\n",
       "      <td>1.334711</td>\n",
       "      <td>-0.340164</td>\n",
       "      <td>4.365080</td>\n",
       "      <td>73.037750</td>\n",
       "      <td>32866.99</td>\n",
       "    </tr>\n",
       "    <tr>\n",
       "      <th>2</th>\n",
       "      <td>1.022732</td>\n",
       "      <td>0.151990</td>\n",
       "      <td>1.419926</td>\n",
       "      <td>85.265647</td>\n",
       "      <td>38369.54</td>\n",
       "    </tr>\n",
       "    <tr>\n",
       "      <th>3</th>\n",
       "      <td>-0.032172</td>\n",
       "      <td>0.139033</td>\n",
       "      <td>2.978566</td>\n",
       "      <td>168.620776</td>\n",
       "      <td>75879.35</td>\n",
       "    </tr>\n",
       "    <tr>\n",
       "      <th>4</th>\n",
       "      <td>1.988431</td>\n",
       "      <td>0.155413</td>\n",
       "      <td>4.751769</td>\n",
       "      <td>154.036647</td>\n",
       "      <td>69316.49</td>\n",
       "    </tr>\n",
       "  </tbody>\n",
       "</table>\n",
       "</div>"
      ],
      "text/plain": [
       "         f0        f1        f2     product    profit\n",
       "0  0.705745 -0.497823  1.221170  105.280062  47376.03\n",
       "1  1.334711 -0.340164  4.365080   73.037750  32866.99\n",
       "2  1.022732  0.151990  1.419926   85.265647  38369.54\n",
       "3 -0.032172  0.139033  2.978566  168.620776  75879.35\n",
       "4  1.988431  0.155413  4.751769  154.036647  69316.49"
      ]
     },
     "execution_count": 25,
     "metadata": {},
     "output_type": "execute_result"
    }
   ],
   "source": [
    "# для первого региона посчитаем прибыль\n",
    "geo_data_0['profit']=(geo_data_0['product']*(income_one_prod)).round(2) # profit, тыс.руб\n",
    "geo_data_0.head()"
   ]
  },
  {
   "cell_type": "code",
   "execution_count": 26,
   "metadata": {},
   "outputs": [
    {
     "data": {
      "text/html": [
       "<div>\n",
       "<style scoped>\n",
       "    .dataframe tbody tr th:only-of-type {\n",
       "        vertical-align: middle;\n",
       "    }\n",
       "\n",
       "    .dataframe tbody tr th {\n",
       "        vertical-align: top;\n",
       "    }\n",
       "\n",
       "    .dataframe thead th {\n",
       "        text-align: right;\n",
       "    }\n",
       "</style>\n",
       "<table border=\"1\" class=\"dataframe\">\n",
       "  <thead>\n",
       "    <tr style=\"text-align: right;\">\n",
       "      <th></th>\n",
       "      <th>f0</th>\n",
       "      <th>f1</th>\n",
       "      <th>f2</th>\n",
       "      <th>product</th>\n",
       "      <th>profit</th>\n",
       "    </tr>\n",
       "  </thead>\n",
       "  <tbody>\n",
       "    <tr>\n",
       "      <th>0</th>\n",
       "      <td>-15.001348</td>\n",
       "      <td>-8.276000</td>\n",
       "      <td>-0.005876</td>\n",
       "      <td>3.179103</td>\n",
       "      <td>1430.60</td>\n",
       "    </tr>\n",
       "    <tr>\n",
       "      <th>1</th>\n",
       "      <td>14.272088</td>\n",
       "      <td>-3.475083</td>\n",
       "      <td>0.999183</td>\n",
       "      <td>26.953261</td>\n",
       "      <td>12128.97</td>\n",
       "    </tr>\n",
       "    <tr>\n",
       "      <th>2</th>\n",
       "      <td>6.263187</td>\n",
       "      <td>-5.948386</td>\n",
       "      <td>5.001160</td>\n",
       "      <td>134.766305</td>\n",
       "      <td>60644.84</td>\n",
       "    </tr>\n",
       "    <tr>\n",
       "      <th>3</th>\n",
       "      <td>-13.081196</td>\n",
       "      <td>-11.506057</td>\n",
       "      <td>4.999415</td>\n",
       "      <td>137.945408</td>\n",
       "      <td>62075.43</td>\n",
       "    </tr>\n",
       "    <tr>\n",
       "      <th>4</th>\n",
       "      <td>12.702195</td>\n",
       "      <td>-8.147433</td>\n",
       "      <td>5.004363</td>\n",
       "      <td>134.766305</td>\n",
       "      <td>60644.84</td>\n",
       "    </tr>\n",
       "  </tbody>\n",
       "</table>\n",
       "</div>"
      ],
      "text/plain": [
       "          f0         f1        f2     product    profit\n",
       "0 -15.001348  -8.276000 -0.005876    3.179103   1430.60\n",
       "1  14.272088  -3.475083  0.999183   26.953261  12128.97\n",
       "2   6.263187  -5.948386  5.001160  134.766305  60644.84\n",
       "3 -13.081196 -11.506057  4.999415  137.945408  62075.43\n",
       "4  12.702195  -8.147433  5.004363  134.766305  60644.84"
      ]
     },
     "execution_count": 26,
     "metadata": {},
     "output_type": "execute_result"
    }
   ],
   "source": [
    "# для второго региона посчитаем прибыль\n",
    "geo_data_1['profit']=(geo_data_1['product']*(income_one_prod)).round(2) # profit, тыс.руб\n",
    "geo_data_1.head()"
   ]
  },
  {
   "cell_type": "code",
   "execution_count": 27,
   "metadata": {
    "scrolled": true
   },
   "outputs": [
    {
     "data": {
      "text/html": [
       "<div>\n",
       "<style scoped>\n",
       "    .dataframe tbody tr th:only-of-type {\n",
       "        vertical-align: middle;\n",
       "    }\n",
       "\n",
       "    .dataframe tbody tr th {\n",
       "        vertical-align: top;\n",
       "    }\n",
       "\n",
       "    .dataframe thead th {\n",
       "        text-align: right;\n",
       "    }\n",
       "</style>\n",
       "<table border=\"1\" class=\"dataframe\">\n",
       "  <thead>\n",
       "    <tr style=\"text-align: right;\">\n",
       "      <th></th>\n",
       "      <th>f0</th>\n",
       "      <th>f1</th>\n",
       "      <th>f2</th>\n",
       "      <th>product</th>\n",
       "      <th>profit</th>\n",
       "    </tr>\n",
       "  </thead>\n",
       "  <tbody>\n",
       "    <tr>\n",
       "      <th>0</th>\n",
       "      <td>-1.146987</td>\n",
       "      <td>0.963328</td>\n",
       "      <td>-0.828965</td>\n",
       "      <td>27.758673</td>\n",
       "      <td>12491.40</td>\n",
       "    </tr>\n",
       "    <tr>\n",
       "      <th>1</th>\n",
       "      <td>0.262778</td>\n",
       "      <td>0.269839</td>\n",
       "      <td>-2.530187</td>\n",
       "      <td>56.069697</td>\n",
       "      <td>25231.36</td>\n",
       "    </tr>\n",
       "    <tr>\n",
       "      <th>2</th>\n",
       "      <td>0.194587</td>\n",
       "      <td>0.289035</td>\n",
       "      <td>-5.586433</td>\n",
       "      <td>62.871910</td>\n",
       "      <td>28292.36</td>\n",
       "    </tr>\n",
       "    <tr>\n",
       "      <th>3</th>\n",
       "      <td>2.236060</td>\n",
       "      <td>-0.553760</td>\n",
       "      <td>0.930038</td>\n",
       "      <td>114.572842</td>\n",
       "      <td>51557.78</td>\n",
       "    </tr>\n",
       "    <tr>\n",
       "      <th>4</th>\n",
       "      <td>-0.515993</td>\n",
       "      <td>1.716266</td>\n",
       "      <td>5.899011</td>\n",
       "      <td>149.600746</td>\n",
       "      <td>67320.34</td>\n",
       "    </tr>\n",
       "  </tbody>\n",
       "</table>\n",
       "</div>"
      ],
      "text/plain": [
       "         f0        f1        f2     product    profit\n",
       "0 -1.146987  0.963328 -0.828965   27.758673  12491.40\n",
       "1  0.262778  0.269839 -2.530187   56.069697  25231.36\n",
       "2  0.194587  0.289035 -5.586433   62.871910  28292.36\n",
       "3  2.236060 -0.553760  0.930038  114.572842  51557.78\n",
       "4 -0.515993  1.716266  5.899011  149.600746  67320.34"
      ]
     },
     "execution_count": 27,
     "metadata": {},
     "output_type": "execute_result"
    }
   ],
   "source": [
    "# для третьего региона посчитаем прибыль\n",
    "geo_data_2['profit']=(geo_data_2['product']*(income_one_prod)).round(2) # profit, тыс.руб\n",
    "geo_data_2.head()"
   ]
  },
  {
   "cell_type": "code",
   "execution_count": 28,
   "metadata": {},
   "outputs": [
    {
     "data": {
      "image/png": "[encoded data removed]",
      "text/plain": [
       "<Figure size 720x360 with 1 Axes>"
      ]
     },
     "metadata": {
      "needs_background": "light"
     },
     "output_type": "display_data"
    }
   ],
   "source": [
    "#внесем значения в отдельну переменную и построим столбчатую диаграмму\n",
    "#функция для добавления надписи в стобчатую диаграмму\n",
    "def addlabels(x,y):\n",
    "    for i in range(len(x)):\n",
    "        plt.text(i,y[i],round(y[i],1),ha = 'center',\n",
    "                Bbox = dict(facecolor = 'white', alpha =.8))\n",
    "\n",
    "        \n",
    "index_mean_vs_cost = [\"Cредний запас сырья\\n в 1 регионе\",\"Cредний запас сырья\\n в 2 регионе\",\n",
    "                      \"Cредний запас сырья\\n в 3 регионе\",\"Безубыт. объем 1 скв.\"]\n",
    "values_mean_vs_cost = [product_mean_0,\n",
    "                        product_mean_1,\n",
    "                        product_mean_2, \n",
    "                       v_prod]\n",
    "plt.figure(figsize = (10,5))\n",
    "plt.bar(index_mean_vs_cost,height=values_mean_vs_cost)\n",
    "addlabels(index_mean_vs_cost,values_mean_vs_cost)\n",
    "plt.title('Сравнение безубыточного объёма сырья со средним запасом в каждом регионе')\n",
    "plt.ylabel('тыс. баррелей.');"
   ]
  },
  {
   "cell_type": "code",
   "execution_count": 29,
   "metadata": {},
   "outputs": [
    {
     "data": {
      "image/png": "[encoded data removed]",
      "text/plain": [
       "<Figure size 720x360 with 1 Axes>"
      ]
     },
     "metadata": {
      "needs_background": "light"
     },
     "output_type": "display_data"
    }
   ],
   "source": [
    "#внесем значения в отдельну переменную и построим столбчатую диаграмму\n",
    "index_mean_vs_cost = [\"Регион 1\",\"Регион 2\",\n",
    "                      \"Регион 3\",\"Разработка 1 скв.\"]\n",
    "values_mean_vs_cost = [geo_data_0['profit'].mean(),geo_data_1['profit'].mean(),\n",
    "                       geo_data_2['profit'].mean(), budg_per_1_point]\n",
    "plt.figure(figsize = (10,5))\n",
    "plt.bar(index_mean_vs_cost,height=values_mean_vs_cost)\n",
    "addlabels(index_mean_vs_cost,values_mean_vs_cost)\n",
    "plt.title('Сравнение среднего дохода с регионов со вложенными средствами')\n",
    "plt.ylabel('тыс. руб.');"
   ]
  },
  {
   "cell_type": "markdown",
   "metadata": {},
   "source": [
    "Ни один из средних доходов с одной скважины не окупает скважину."
   ]
  },
  {
   "cell_type": "markdown",
   "metadata": {},
   "source": [
    "**Промежуточный вывод**:  \n",
    "\n",
    "Записали следующие константы:\n",
    "- budget -общий бюджет\n",
    "- income_one_prod - доход с каждой единицы продукта\n",
    "- target_probability_losses - наименьшая вероятность убытков\n",
    "- budg_per_1_point - бюджет на разработку одной скважины\n",
    "- v_prod - Объём каждой скважины для безубыточной разработки\n",
    "\n",
    "Замечаем, что объем каждой скважины должен быть не менее 111.11 тыс. баррелей. Ни один из средних запасов региона не попадает под безубысточный запас, значит придется искать скважины с большим запасом тыс. баррелей.\n",
    "\n",
    "**Главное - выбрать скважины с безубыточным объемом сырья.**\n",
    "При выборе скважин **опираемся на предсказания, поэтому точность прогноза имеет большое значение и без модели нам не обойтись."
   ]
  },
  {
   "cell_type": "markdown",
   "metadata": {},
   "source": [
    "## Функция для расчёта прибыли по выбранным скважинам и предсказаниям модели"
   ]
  },
  {
   "cell_type": "markdown",
   "metadata": {},
   "source": [
    "Создадим функцию для расчета прибыли по выбранным скважинам и предсказаниям модели"
   ]
  },
  {
   "cell_type": "code",
   "execution_count": 30,
   "metadata": {},
   "outputs": [],
   "source": [
    "#на вход функция принимает предсказания модели по кол-ву баррелей,\n",
    "#целевой признак для индексации и кол-во для отбора лучших скважин\n",
    "def profit_for_best_keyhole(predict,target,count):\n",
    "    \n",
    "    #создаем отсортированный объект Series по нисходящей\n",
    "    probs_sorted = pd.Series(predict, index=target.index).sort_values(ascending=False)\n",
    "    \n",
    "    #отбираем кол-во лучших скважин и суммируем баррели\n",
    "    global selected_max\n",
    "    selected_max = probs_sorted[:count].sum()\n",
    "    \n",
    "    #расчтаем прибыль\n",
    "    profit_pred=(selected_max*income_one_prod)-budget\n",
    "    \n",
    "    print('суммарный запас сырья в 200 лучших скважинах составит: %.2f тыс.баррелей'%selected_max)\n",
    "    print('прибыль для полученного объёма сырья составит %.2f млн.рублей'%(profit_pred/1000))"
   ]
  },
  {
   "cell_type": "markdown",
   "metadata": {},
   "source": [
    "Расчитаем для первого региона"
   ]
  },
  {
   "cell_type": "code",
   "execution_count": 31,
   "metadata": {},
   "outputs": [
    {
     "name": "stdout",
     "output_type": "stream",
     "text": [
      "суммарный запас сырья в 200 лучших скважинах составит: 31102.33 тыс.баррелей\n",
      "прибыль для полученного объёма сырья составит 3996.05 млн.рублей\n"
     ]
    }
   ],
   "source": [
    "profit_for_best_keyhole(predict_0,target_valid_0,200)\n",
    "#Присвоим глобальную переменную для дальнейших расчетов\n",
    "sum_material_0 = selected_max"
   ]
  },
  {
   "cell_type": "markdown",
   "metadata": {},
   "source": [
    "Расчитаем для второго региона"
   ]
  },
  {
   "cell_type": "code",
   "execution_count": 32,
   "metadata": {},
   "outputs": [
    {
     "name": "stdout",
     "output_type": "stream",
     "text": [
      "суммарный запас сырья в 200 лучших скважинах составит: 27746.03 тыс.баррелей\n",
      "прибыль для полученного объёма сырья составит 2485.71 млн.рублей\n"
     ]
    }
   ],
   "source": [
    "profit_for_best_keyhole(predict_1,target_valid_1,200)\n",
    "sum_material_1 = selected_max"
   ]
  },
  {
   "cell_type": "markdown",
   "metadata": {},
   "source": [
    "Расчитаем для третьего региона"
   ]
  },
  {
   "cell_type": "code",
   "execution_count": 33,
   "metadata": {},
   "outputs": [
    {
     "name": "stdout",
     "output_type": "stream",
     "text": [
      "суммарный запас сырья в 200 лучших скважинах составит: 29603.90 тыс.баррелей\n",
      "прибыль для полученного объёма сырья составит 3321.75 млн.рублей\n"
     ]
    }
   ],
   "source": [
    "profit_for_best_keyhole(predict_2,target_valid_2,200)\n",
    "sum_material_2 = selected_max"
   ]
  },
  {
   "cell_type": "markdown",
   "metadata": {},
   "source": [
    "**Промежуточный вывод:**  \n",
    "- Самый прибыльный регион 1 с прибылью 3996.05 млн.рублей\n",
    "- На втором месте регион 3 - 3321.75 млн.рублей\n",
    "- На последнем регион 2 - 2485.71 млн.рублей  \n",
    "\n",
    "Расчеты выполнены по лучшим скважинам, для определения наиболее выгодного с точки зрения окупаемости вложений и рисков убытка проведём расчёт вероятности."
   ]
  },
  {
   "cell_type": "markdown",
   "metadata": {},
   "source": [
    "## Расчёт прибыли и рисков "
   ]
  },
  {
   "cell_type": "markdown",
   "metadata": {},
   "source": [
    "Применим технику Bootstrap с 1000 выборок, чтобы найти распределение прибыли.\n",
    "\n",
    "Найдём среднюю прибыль, 95%-й доверительный интервал и риск убытков."
   ]
  },
  {
   "cell_type": "code",
   "execution_count": 34,
   "metadata": {},
   "outputs": [],
   "source": [
    "def profit_for_predict_keyhole(predict,target,count):\n",
    "    #создадим аналог функции profit_for_best_keyhole возвращающий прибыль\n",
    "    probs_sorted = pd.Series(predict).sort_values(ascending=False)\n",
    "    selected_points = target[probs_sorted.index][:count]\n",
    "    product = selected_points.sum()\n",
    "    revenue = product * income_one_prod\n",
    "    return revenue - budget"
   ]
  },
  {
   "cell_type": "code",
   "execution_count": 35,
   "metadata": {},
   "outputs": [],
   "source": [
    "def bootstap_for_predict(target,predict):\n",
    "    #На вход функция получает целевой принзак и предсказания модели        \n",
    "    #Создаем константы внутри функции\n",
    "    values = []\n",
    "    count=0\n",
    "    state = np.random.RandomState(12345)\n",
    "    predict_e = pd.Series(predict, index=target.index)\n",
    "    \n",
    "    #применяем технику бустреп с 1000 выборок\n",
    "    for i in range(1000):   \n",
    "    #Выбираем 500 точек\n",
    "        target_subsample = target.sample(n=500,replace=True, random_state=state)\n",
    "    \n",
    "    #добавляем значения исследуемых точек\n",
    "        probs_subsample = predict_e[target_subsample.index]\n",
    "    \n",
    "    #добавляем в список 200 лучших скважин из сформированной выборки\n",
    "        values.append(profit_for_predict_keyhole(probs_subsample,target_subsample, 200))  \n",
    "    \n",
    "    #считаем кол-во скважин с убытком\n",
    "    for i in values:\n",
    "        if i < 0:\n",
    "            count +=1\n",
    "            \n",
    "    values = pd.Series(values)\n",
    "    global mean\n",
    "    mean = values.mean()\n",
    "    global loss\n",
    "    loss = count/1000\n",
    "    \n",
    "    #считаем доверительный интервал при помощи scipy\n",
    "    confidence_interval = st.t.interval(0.95, len(values)-1, values.mean(), values.sem())\n",
    "    \n",
    "    #построим гистограмму распределения прибыли\n",
    "    plt.title('Распределение прибыли')\n",
    "    values.plot(kind=\"hist\", grid=True, figsize=(8,5))\n",
    "    plt.xlabel('Прибыль, тыс.руб')\n",
    "    plt.ylabel('Количество')\n",
    "    plt.show()\n",
    "    \n",
    "    #считаем квантили\n",
    "    low_95 = values.quantile(0.025)\n",
    "    high_95 = values.quantile(0.975)\n",
    "    \n",
    "    print(\"Средняя прибыль: {:.2f} млн.руб\".format(mean/1000))\n",
    "    print('С вероятностью 95% прибыль в данном регионе будет составлять от: {:.2f} млн.руб до: {:.2f} млн.руб'\\\n",
    "          .format((low_95/1000),(high_95/1000)))\n",
    "    print(\"95%-ый доверительный интервал: от {:.2f} млн.руб до {:.2f} млн.руб\"\\\n",
    "          .format((confidence_interval[0]/1000),(confidence_interval[1]/1000)))\n",
    "    print ('Процент вероятности убытка в данном регионе составит {:.1%}'.format(loss))"
   ]
  },
  {
   "cell_type": "markdown",
   "metadata": {},
   "source": [
    "**Применим функцию для первого регина**"
   ]
  },
  {
   "cell_type": "code",
   "execution_count": 36,
   "metadata": {},
   "outputs": [
    {
     "data": {
      "image/png": "[encoded data removed]",
      "text/plain": [
       "<Figure size 576x360 with 1 Axes>"
      ]
     },
     "metadata": {
      "needs_background": "light"
     },
     "output_type": "display_data"
    },
    {
     "name": "stdout",
     "output_type": "stream",
     "text": [
      "Средняя прибыль: 425.94 млн.руб\n",
      "С вероятностью 95% прибыль в данном регионе будет составлять от: -102.09 млн.руб до: 947.98 млн.руб\n",
      "95%-ый доверительный интервал: от 408.73 млн.руб до 443.14 млн.руб\n",
      "Процент вероятности убытка в данном регионе составит 6.0%\n"
     ]
    }
   ],
   "source": [
    "bootstap_for_predict(target_valid_0,predict_0)\n",
    "#Присвоим глобальное значение переменной региону\n",
    "mean_predict_product_0 = mean\n",
    "property_loss_0 = loss"
   ]
  },
  {
   "cell_type": "markdown",
   "metadata": {},
   "source": [
    "**Применим функцию для второго регина**"
   ]
  },
  {
   "cell_type": "code",
   "execution_count": 37,
   "metadata": {},
   "outputs": [
    {
     "data": {
      "image/png": "[encoded data removed]",
      "text/plain": [
       "<Figure size 576x360 with 1 Axes>"
      ]
     },
     "metadata": {
      "needs_background": "light"
     },
     "output_type": "display_data"
    },
    {
     "name": "stdout",
     "output_type": "stream",
     "text": [
      "Средняя прибыль: 515.22 млн.руб\n",
      "С вероятностью 95% прибыль в данном регионе будет составлять от: 68.87 млн.руб до: 931.55 млн.руб\n",
      "95%-ый доверительный интервал: от 501.62 млн.руб до 528.82 млн.руб\n",
      "Процент вероятности убытка в данном регионе составит 1.0%\n"
     ]
    }
   ],
   "source": [
    "bootstap_for_predict(target_valid_1,predict_1)\n",
    "mean_predict_product_1 = mean\n",
    "property_loss_1 = loss"
   ]
  },
  {
   "cell_type": "markdown",
   "metadata": {},
   "source": [
    "**Применим функцию для третьего регина**"
   ]
  },
  {
   "cell_type": "code",
   "execution_count": 38,
   "metadata": {
    "scrolled": false
   },
   "outputs": [
    {
     "data": {
      "image/png": "[encoded data removed]",
      "text/plain": [
       "<Figure size 576x360 with 1 Axes>"
      ]
     },
     "metadata": {
      "needs_background": "light"
     },
     "output_type": "display_data"
    },
    {
     "name": "stdout",
     "output_type": "stream",
     "text": [
      "Средняя прибыль: 435.01 млн.руб\n",
      "С вероятностью 95% прибыль в данном регионе будет составлять от: -128.88 млн.руб до: 969.71 млн.руб\n",
      "95%-ый доверительный интервал: от 417.45 млн.руб до 452.56 млн.руб\n",
      "Процент вероятности убытка в данном регионе составит 6.4%\n"
     ]
    }
   ],
   "source": [
    "bootstap_for_predict(target_valid_2,predict_2)\n",
    "mean_predict_product_2 = mean\n",
    "property_loss_2 = loss"
   ]
  },
  {
   "cell_type": "markdown",
   "metadata": {},
   "source": [
    "**Проанализируем итоговые параметры регионов**"
   ]
  },
  {
   "cell_type": "code",
   "execution_count": 39,
   "metadata": {},
   "outputs": [
    {
     "data": {
      "image/png": "[encoded data removed]",
      "text/plain": [
       "<Figure size 720x360 with 1 Axes>"
      ]
     },
     "metadata": {
      "needs_background": "light"
     },
     "output_type": "display_data"
    }
   ],
   "source": [
    "index_mean_vs_cost = [\"Регион 1\",\"Регион 2\",\n",
    "                      \"Регион 3\"]\n",
    "values_mean_vs_cost = [sum_material_0, sum_material_1, sum_material_2]\n",
    "plt.figure(figsize = (10,5))\n",
    "plt.bar(index_mean_vs_cost,height=values_mean_vs_cost)\n",
    "addlabels(index_mean_vs_cost,values_mean_vs_cost)\n",
    "plt.title('Сравнение средних запасов баррелей в регионах')\n",
    "plt.ylabel('тыс. баррелей');"
   ]
  },
  {
   "cell_type": "code",
   "execution_count": 40,
   "metadata": {},
   "outputs": [
    {
     "data": {
      "image/png": "[encoded data removed]",
      "text/plain": [
       "<Figure size 720x360 with 1 Axes>"
      ]
     },
     "metadata": {
      "needs_background": "light"
     },
     "output_type": "display_data"
    }
   ],
   "source": [
    "index_mean_vs_cost = [\"Регион 1\",\"Регион 2\",\n",
    "                      \"Регион 3\"]\n",
    "values_mean_vs_cost = [mean_predict_product_0, mean_predict_product_1, mean_predict_product_2]\n",
    "plt.figure(figsize = (10,5))\n",
    "plt.bar(index_mean_vs_cost,height=values_mean_vs_cost,color = 'g')\n",
    "addlabels(index_mean_vs_cost,values_mean_vs_cost)\n",
    "plt.title('Сравнение средней прибыли с регионов после бустрепа')\n",
    "plt.ylabel('тыс. руб.');"
   ]
  },
  {
   "cell_type": "code",
   "execution_count": 41,
   "metadata": {},
   "outputs": [
    {
     "data": {
      "image/png": "[encoded data removed]",
      "text/plain": [
       "<Figure size 720x360 with 1 Axes>"
      ]
     },
     "metadata": {
      "needs_background": "light"
     },
     "output_type": "display_data"
    }
   ],
   "source": [
    "index_mean_vs_cost = [\"Регион 1\",\"Регион 2\",\n",
    "                      \"Регион 3\"]\n",
    "values_mean_vs_cost = [property_loss_0*100, property_loss_1*100, property_loss_2*100]\n",
    "plt.figure(figsize = (10,5))\n",
    "plt.axhline(y=2.5, color='r', linestyle='-', label='Максимальная вероятность убытков')\n",
    "plt.legend(loc = 'upper left')\n",
    "plt.bar(index_mean_vs_cost,height=values_mean_vs_cost,color='c')\n",
    "plt.title('Сравнение рисков убытка в процентном соотношении')\n",
    "plt.ylabel('Вероятность убытка, %');"
   ]
  },
  {
   "cell_type": "markdown",
   "metadata": {},
   "source": [
    "### Вывод"
   ]
  },
  {
   "cell_type": "markdown",
   "metadata": {},
   "source": [
    "Мы применили технику Bootstrap с 1000 выборок, чтобы найти распределение прибыли. по итогу подчернем следующие пункты:\n",
    "\n",
    "1. По первому региону  \n",
    "    - Средняя прибыль: **425.94 млн.руб**\n",
    "    - С вероятностью 95% прибыль в данном регионе будет составлять от: **-102.09 млн.руб до: 947.98 млн.руб**\n",
    "    - 95%-ый доверительный интервал: **от 408.73 млн.руб до 443.14 млн.руб**\n",
    "    - Процент вероятности убытка в данном регионе составит **6.0%**\n",
    "2. По второму региону  \n",
    "    - Средняя прибыль: **515.22 млн.руб**\n",
    "    - С вероятностью 95% прибыль в данном регионе будет составлять от: **68.87 млн.руб до: 931.55 млн.руб**\n",
    "    - 95%-ый доверительный интервал: от **501.62 млн.руб до 528.82 млн.руб**\n",
    "    - Процент вероятности убытка в данном регионе составит **1.0%**\n",
    "3. По третьему региону  \n",
    "    - Средняя прибыль: **435.01 млн.руб**\n",
    "    - С вероятностью 95% прибыль в данном регионе будет составлять от: **-128.88 млн.руб до: 969.71 млн.руб**\n",
    "    - 95%-ый доверительный интервал: от **417.45 млн.руб до 452.56 млн.руб**\n",
    "    - Процент вероятности убытка в данном регионе составит **6.4%**\n",
    "\n",
    "Несмотря на меньший запас баррелей по второму региону, с учетом рисков убытков, второй регион является более прибыльным по отношению к другим регионам - мин. прибыль 68.87 млн.   \n",
    "У остальных имеется большая вероятность убытков в 95% доверительном интервале 1 регион - 102.09 млн, 3 регион -128.88 млн руб.\n",
    "\n"
   ]
  },
  {
   "cell_type": "markdown",
   "metadata": {},
   "source": [
    "##  Общий вывод"
   ]
  },
  {
   "attachments": {
    "image-2.png": {
     "image/png": "[encoded data removed]"
    },
    "image-3.png": {
     "image/png": "[encoded data removed]"
    },
    "image-4.png": {
     "image/png": "[encoded data removed]"
    },
    "image-5.png": {
     "image/png": "[encoded data removed]"
    },
    "image.png": {
     "image/png": "[encoded data removed]"
    }
   },
   "cell_type": "markdown",
   "metadata": {},
   "source": [
    "Целью нашего проекта было посчитать прибыль и риски для каждого региона и выбрать наиболее рентабельный. Прошли следующий путь:\n",
    "1. Изучили данные о регионах;\n",
    "    - Во время изучения пустых признаках на объектах не обнаружены\n",
    "    - Выявлены дубликаты по уникальному индетификатору(1рег.-10 дубл, 2рег.-4дубл., 3рег.-4дубл.). Так как признаки этих скважин оказались разными, мы не исключали из датасета. Возможно техническая причина в выгрузке данных.\n",
    "    - Замечена полная линейная зависимость признака f2 от product в регионе 2. линейная модель в данном случае может полностью игнорировать признаки f0 и f1. Однако показатели модели будут наилучшими.\n",
    " ![image.png](attachment:image.png)   \n",
    "\n",
    "2. Построили модель линейной регрессии для определения кол-ва бареллей в регионах. Является обучение с учителем. Изучили качество модели. Получили следующие итоги:\n",
    "    - **1 регион**\n",
    "        - RMSE: 37.58\n",
    "        - Коэффициент детерминации: 0.28\n",
    "    - **2 регион**\n",
    "        - RMSE: 0.89\n",
    "        - Коэффициент детерминации: 1.00\n",
    "    - **3 регион**\n",
    "        - RMSE: 40.03\n",
    "        - Коэффициент детерминации: 0.21\n",
    "    - Лучше всего показа себя модель 2 региона.\n",
    "    - Сохранили результаты предсказания и средний запас каждого для дальнейших рассчетов\n",
    "| Значения | Первый регион | Второй регион | Третий регион |\n",
    "| --- | --- | --- | --- |\n",
    "| Средний запас предсказанного сырья, тыс. баррелей | 92.592568 | 68.728547 | 94.965046 |\n",
    "\n",
    "3. Расчитали прибыль и риски убытка. Выбрали самый рентабельный регион.\n",
    "    - Объём каждой скважины для безубыточной разработки должен составлять не менее: 111.11 тыс.баррелей (50 млн руб.) с учетом выбора **200** лучших для разработки\n",
    "    - Ни один из регионов по среднему запасу не окупает затраты.\n",
    "    ![image-5.png](attachment:image-5.png)\n",
    "    - Выбрали 200 лучших скважин по региону.\n",
    "    - **1 регион:**\n",
    "        - суммарный запас сырья в 200 лучших скважинах составит: **31102.33 тыс.баррелей**\n",
    "        - прибыль для полученного объёма сырья составит **3996.05 млн.рублей**\n",
    "    - **2 регион:**\n",
    "        - суммарный запас сырья в 200 лучших скважинах составит: **27746.03 тыс.баррелей**\n",
    "        - прибыль для полученного объёма сырья составит **2485.71 млн.рублей**\n",
    "    - **3 регион:**\n",
    "        - суммарный запас сырья в 200 лучших скважинах составит: **29603.90 тыс.баррелей**\n",
    "        - прибыль для полученного объёма сырья составит **3321.75 млн.рублей**\n",
    "    - Провели расчеты прибыли с учетом рисков:\n",
    "![image-2.png](attachment:image-2.png)\n",
    "    - максимальное кол-во запасов баррелей в регионе 1\n",
    "![image-3.png](attachment:image-3.png)\n",
    "    - однако, с учетом рисков, больше всего прибыль принесет регион 2.\n",
    "![image-4.png](attachment:image-4.png)\n",
    "    - имеющий минимальную вероятность убытка в 1%\n",
    "\n",
    "Предлагаю второй регион для разработки месторождения с учетом вышеизложенного.\n",
    "    \n",
    "**Рекомендации**:\n",
    "   - более подробно изучить признак f2, имеющий положительную корреляцию от кол-ва баррелей в скважине.\n",
    "   - Присвоить новые уникальные индификаторы по скважинам для исключения дубликатов."
   ]
  }
 ],
 "metadata": {
  "ExecuteTimeLog": [
   {
    "duration": 377,
    "start_time": "2023-04-03T04:45:01.259Z"
   },
   {
    "duration": 483,
    "start_time": "2023-04-03T04:47:48.624Z"
   },
   {
    "duration": 490,
    "start_time": "2023-04-03T04:48:34.246Z"
   },
   {
    "duration": 29,
    "start_time": "2023-04-03T04:48:40.472Z"
   },
   {
    "duration": 343,
    "start_time": "2023-04-03T04:49:35.768Z"
   },
   {
    "duration": 10,
    "start_time": "2023-04-03T04:49:51.016Z"
   },
   {
    "duration": 10,
    "start_time": "2023-04-03T05:49:36.368Z"
   },
   {
    "duration": 3,
    "start_time": "2023-04-03T05:50:20.621Z"
   },
   {
    "duration": 72,
    "start_time": "2023-04-03T05:57:22.814Z"
   },
   {
    "duration": 70,
    "start_time": "2023-04-03T05:57:29.409Z"
   },
   {
    "duration": 3,
    "start_time": "2023-04-03T05:57:45.637Z"
   },
   {
    "duration": 1007,
    "start_time": "2023-04-03T05:57:56.548Z"
   },
   {
    "duration": 675,
    "start_time": "2023-04-03T05:58:03.454Z"
   },
   {
    "duration": 622,
    "start_time": "2023-04-03T05:58:48.053Z"
   },
   {
    "duration": 4,
    "start_time": "2023-04-03T05:58:50.043Z"
   },
   {
    "duration": 646,
    "start_time": "2023-04-03T05:58:51.102Z"
   },
   {
    "duration": 4,
    "start_time": "2023-04-03T05:59:26.485Z"
   },
   {
    "duration": 608,
    "start_time": "2023-04-03T05:59:27.044Z"
   },
   {
    "duration": 409,
    "start_time": "2023-04-03T06:02:33.632Z"
   },
   {
    "duration": 397,
    "start_time": "2023-04-03T06:02:34.043Z"
   },
   {
    "duration": 4,
    "start_time": "2023-04-03T06:02:34.441Z"
   },
   {
    "duration": 958,
    "start_time": "2023-04-03T06:02:34.447Z"
   },
   {
    "duration": 20,
    "start_time": "2023-04-03T06:02:35.407Z"
   },
   {
    "duration": 74,
    "start_time": "2023-04-03T06:02:46.137Z"
   },
   {
    "duration": 4,
    "start_time": "2023-04-03T06:03:02.082Z"
   },
   {
    "duration": 702,
    "start_time": "2023-04-03T06:03:02.625Z"
   },
   {
    "duration": 76,
    "start_time": "2023-04-03T07:22:59.435Z"
   },
   {
    "duration": 52,
    "start_time": "2023-04-03T07:23:16.964Z"
   },
   {
    "duration": 19,
    "start_time": "2023-04-03T07:26:06.651Z"
   },
   {
    "duration": 19,
    "start_time": "2023-04-03T07:26:14.651Z"
   },
   {
    "duration": 23,
    "start_time": "2023-04-03T07:26:35.730Z"
   },
   {
    "duration": 74,
    "start_time": "2023-04-03T07:29:11.155Z"
   },
   {
    "duration": 746,
    "start_time": "2023-04-03T07:29:11.665Z"
   },
   {
    "duration": 23,
    "start_time": "2023-04-03T07:32:12.014Z"
   },
   {
    "duration": 5,
    "start_time": "2023-04-03T07:40:12.953Z"
   },
   {
    "duration": 29,
    "start_time": "2023-04-03T07:50:19.959Z"
   },
   {
    "duration": 33,
    "start_time": "2023-04-03T07:50:59.058Z"
   },
   {
    "duration": 676,
    "start_time": "2023-04-03T07:58:11.083Z"
   },
   {
    "duration": 623,
    "start_time": "2023-04-03T07:59:57.217Z"
   },
   {
    "duration": 31,
    "start_time": "2023-04-03T08:01:13.759Z"
   },
   {
    "duration": 31,
    "start_time": "2023-04-03T08:58:14.462Z"
   },
   {
    "duration": 1686,
    "start_time": "2023-04-04T14:18:03.432Z"
   },
   {
    "duration": 1940,
    "start_time": "2023-04-04T14:18:05.120Z"
   },
   {
    "duration": 4,
    "start_time": "2023-04-04T14:18:08.105Z"
   },
   {
    "duration": 747,
    "start_time": "2023-04-04T14:18:08.761Z"
   },
   {
    "duration": 4,
    "start_time": "2023-04-04T14:18:23.389Z"
   },
   {
    "duration": 1128,
    "start_time": "2023-04-04T14:18:23.647Z"
   },
   {
    "duration": 4,
    "start_time": "2023-04-04T14:19:02.263Z"
   },
   {
    "duration": 598,
    "start_time": "2023-04-04T14:19:02.399Z"
   },
   {
    "duration": 10,
    "start_time": "2023-04-04T14:19:15.122Z"
   },
   {
    "duration": 355,
    "start_time": "2023-04-04T14:19:25.241Z"
   },
   {
    "duration": 354,
    "start_time": "2023-04-04T14:20:06.841Z"
   },
   {
    "duration": 317,
    "start_time": "2023-04-04T14:20:47.206Z"
   },
   {
    "duration": 315,
    "start_time": "2023-04-04T14:21:25.392Z"
   },
   {
    "duration": 5219,
    "start_time": "2023-04-04T15:18:36.180Z"
   },
   {
    "duration": 4855,
    "start_time": "2023-04-04T15:19:41.844Z"
   },
   {
    "duration": 4929,
    "start_time": "2023-04-04T15:19:51.284Z"
   },
   {
    "duration": 9,
    "start_time": "2023-04-04T15:58:45.000Z"
   },
   {
    "duration": 28,
    "start_time": "2023-04-04T15:59:09.352Z"
   },
   {
    "duration": 2026,
    "start_time": "2023-04-05T13:56:03.648Z"
   },
   {
    "duration": 0,
    "start_time": "2023-04-05T13:56:05.677Z"
   },
   {
    "duration": 0,
    "start_time": "2023-04-05T13:56:05.678Z"
   },
   {
    "duration": 0,
    "start_time": "2023-04-05T13:56:05.680Z"
   },
   {
    "duration": 0,
    "start_time": "2023-04-05T13:56:05.681Z"
   },
   {
    "duration": 0,
    "start_time": "2023-04-05T13:56:05.682Z"
   },
   {
    "duration": 0,
    "start_time": "2023-04-05T13:56:05.684Z"
   },
   {
    "duration": 0,
    "start_time": "2023-04-05T13:56:05.685Z"
   },
   {
    "duration": 0,
    "start_time": "2023-04-05T13:56:05.686Z"
   },
   {
    "duration": 0,
    "start_time": "2023-04-05T13:56:05.688Z"
   },
   {
    "duration": 0,
    "start_time": "2023-04-05T13:56:05.689Z"
   },
   {
    "duration": 20,
    "start_time": "2023-04-05T13:56:35.859Z"
   },
   {
    "duration": 0,
    "start_time": "2023-04-05T13:56:35.881Z"
   },
   {
    "duration": 0,
    "start_time": "2023-04-05T13:56:35.883Z"
   },
   {
    "duration": 0,
    "start_time": "2023-04-05T13:56:35.884Z"
   },
   {
    "duration": 0,
    "start_time": "2023-04-05T13:56:35.885Z"
   },
   {
    "duration": 0,
    "start_time": "2023-04-05T13:56:35.886Z"
   },
   {
    "duration": 0,
    "start_time": "2023-04-05T13:56:35.887Z"
   },
   {
    "duration": 0,
    "start_time": "2023-04-05T13:56:35.889Z"
   },
   {
    "duration": 0,
    "start_time": "2023-04-05T13:56:35.890Z"
   },
   {
    "duration": 0,
    "start_time": "2023-04-05T13:56:35.891Z"
   },
   {
    "duration": 6,
    "start_time": "2023-04-05T13:57:06.909Z"
   },
   {
    "duration": 4,
    "start_time": "2023-04-05T13:57:13.754Z"
   },
   {
    "duration": 1133,
    "start_time": "2023-04-05T13:57:13.761Z"
   },
   {
    "duration": 4,
    "start_time": "2023-04-05T13:57:14.896Z"
   },
   {
    "duration": 795,
    "start_time": "2023-04-05T13:57:14.903Z"
   },
   {
    "duration": 69,
    "start_time": "2023-04-05T13:57:15.702Z"
   },
   {
    "duration": 461,
    "start_time": "2023-04-05T13:57:15.776Z"
   },
   {
    "duration": 889,
    "start_time": "2023-04-05T13:57:16.239Z"
   },
   {
    "duration": 458,
    "start_time": "2023-04-05T13:57:17.131Z"
   },
   {
    "duration": 807,
    "start_time": "2023-04-05T13:57:17.592Z"
   },
   {
    "duration": 336,
    "start_time": "2023-04-05T13:57:18.402Z"
   },
   {
    "duration": 44,
    "start_time": "2023-04-05T13:57:18.740Z"
   },
   {
    "duration": 23,
    "start_time": "2023-04-05T13:57:59.299Z"
   },
   {
    "duration": 16,
    "start_time": "2023-04-05T13:58:03.296Z"
   },
   {
    "duration": 11,
    "start_time": "2023-04-05T13:58:35.589Z"
   },
   {
    "duration": 9,
    "start_time": "2023-04-05T13:59:07.939Z"
   },
   {
    "duration": 13,
    "start_time": "2023-04-05T13:59:09.289Z"
   },
   {
    "duration": 26,
    "start_time": "2023-04-05T14:01:09.428Z"
   },
   {
    "duration": 21,
    "start_time": "2023-04-05T14:01:28.773Z"
   },
   {
    "duration": 18,
    "start_time": "2023-04-05T14:01:39.515Z"
   },
   {
    "duration": 16,
    "start_time": "2023-04-05T14:03:10.537Z"
   },
   {
    "duration": 13,
    "start_time": "2023-04-05T14:03:12.176Z"
   },
   {
    "duration": 16,
    "start_time": "2023-04-05T14:03:32.603Z"
   },
   {
    "duration": 13,
    "start_time": "2023-04-05T14:06:00.610Z"
   },
   {
    "duration": 16,
    "start_time": "2023-04-05T14:06:04.154Z"
   },
   {
    "duration": 12,
    "start_time": "2023-04-05T14:06:04.851Z"
   },
   {
    "duration": 172,
    "start_time": "2023-04-05T14:08:53.591Z"
   },
   {
    "duration": 26,
    "start_time": "2023-04-05T14:09:27.157Z"
   },
   {
    "duration": 16,
    "start_time": "2023-04-05T14:10:08.970Z"
   },
   {
    "duration": 5,
    "start_time": "2023-04-05T14:15:28.582Z"
   },
   {
    "duration": 79,
    "start_time": "2023-04-05T14:15:32.196Z"
   },
   {
    "duration": 6,
    "start_time": "2023-04-05T14:15:38.313Z"
   },
   {
    "duration": 45,
    "start_time": "2023-04-05T14:15:47.023Z"
   },
   {
    "duration": 39,
    "start_time": "2023-04-05T14:16:22.728Z"
   },
   {
    "duration": 54,
    "start_time": "2023-04-05T14:17:12.125Z"
   },
   {
    "duration": 90,
    "start_time": "2023-04-05T14:17:29.549Z"
   },
   {
    "duration": 102,
    "start_time": "2023-04-05T14:17:52.397Z"
   },
   {
    "duration": 63,
    "start_time": "2023-04-05T14:17:56.342Z"
   },
   {
    "duration": 29,
    "start_time": "2023-04-05T14:19:16.837Z"
   },
   {
    "duration": 99,
    "start_time": "2023-04-05T14:19:19.363Z"
   },
   {
    "duration": 42,
    "start_time": "2023-04-05T14:19:49.597Z"
   },
   {
    "duration": 73,
    "start_time": "2023-04-05T14:20:10.497Z"
   },
   {
    "duration": 29,
    "start_time": "2023-04-05T14:20:25.589Z"
   },
   {
    "duration": 9,
    "start_time": "2023-04-05T14:27:42.531Z"
   },
   {
    "duration": 18,
    "start_time": "2023-04-05T14:27:42.867Z"
   },
   {
    "duration": 18,
    "start_time": "2023-04-05T14:27:43.211Z"
   },
   {
    "duration": 17,
    "start_time": "2023-04-05T14:27:43.562Z"
   },
   {
    "duration": 29,
    "start_time": "2023-04-05T14:27:44.100Z"
   },
   {
    "duration": 29,
    "start_time": "2023-04-05T14:27:44.458Z"
   },
   {
    "duration": 21,
    "start_time": "2023-04-05T14:27:44.804Z"
   },
   {
    "duration": 20,
    "start_time": "2023-04-05T14:27:51.703Z"
   },
   {
    "duration": 4,
    "start_time": "2023-04-05T14:39:26.517Z"
   },
   {
    "duration": 7,
    "start_time": "2023-04-05T14:40:31.246Z"
   },
   {
    "duration": 5,
    "start_time": "2023-04-05T14:40:49.453Z"
   },
   {
    "duration": 5,
    "start_time": "2023-04-05T14:41:23.684Z"
   },
   {
    "duration": 7,
    "start_time": "2023-04-05T14:43:45.663Z"
   },
   {
    "duration": 13,
    "start_time": "2023-04-05T14:43:51.219Z"
   },
   {
    "duration": 11,
    "start_time": "2023-04-05T14:45:23.592Z"
   },
   {
    "duration": 13,
    "start_time": "2023-04-05T14:45:57.617Z"
   },
   {
    "duration": 13,
    "start_time": "2023-04-05T14:46:20.385Z"
   },
   {
    "duration": 18,
    "start_time": "2023-04-05T14:47:35.750Z"
   },
   {
    "duration": 11,
    "start_time": "2023-04-05T14:47:42.837Z"
   },
   {
    "duration": 14,
    "start_time": "2023-04-05T14:47:56.066Z"
   },
   {
    "duration": 76,
    "start_time": "2023-04-05T14:49:09.984Z"
   },
   {
    "duration": 17,
    "start_time": "2023-04-05T14:49:19.663Z"
   },
   {
    "duration": 12,
    "start_time": "2023-04-05T14:51:07.397Z"
   },
   {
    "duration": 11,
    "start_time": "2023-04-05T15:10:13.962Z"
   },
   {
    "duration": 10,
    "start_time": "2023-04-05T15:10:14.129Z"
   },
   {
    "duration": 5,
    "start_time": "2023-04-05T15:10:33.492Z"
   },
   {
    "duration": 3,
    "start_time": "2023-04-05T15:10:34.050Z"
   },
   {
    "duration": 5,
    "start_time": "2023-04-05T15:10:34.380Z"
   },
   {
    "duration": 4,
    "start_time": "2023-04-05T15:10:52.246Z"
   },
   {
    "duration": 6,
    "start_time": "2023-04-05T15:11:50.049Z"
   },
   {
    "duration": 3,
    "start_time": "2023-04-05T15:11:50.201Z"
   },
   {
    "duration": 4,
    "start_time": "2023-04-05T15:11:50.346Z"
   },
   {
    "duration": 3,
    "start_time": "2023-04-05T15:11:51.890Z"
   },
   {
    "duration": 11,
    "start_time": "2023-04-05T15:49:06.031Z"
   },
   {
    "duration": 12,
    "start_time": "2023-04-05T15:49:14.521Z"
   },
   {
    "duration": 11,
    "start_time": "2023-04-05T15:49:16.969Z"
   },
   {
    "duration": 14,
    "start_time": "2023-04-05T15:49:57.335Z"
   },
   {
    "duration": 5,
    "start_time": "2023-04-05T15:50:10.875Z"
   },
   {
    "duration": 417,
    "start_time": "2023-04-05T15:50:16.042Z"
   },
   {
    "duration": 12,
    "start_time": "2023-04-05T15:50:35.535Z"
   },
   {
    "duration": 11,
    "start_time": "2023-04-05T15:50:42.537Z"
   },
   {
    "duration": 1648,
    "start_time": "2023-04-05T15:56:25.124Z"
   },
   {
    "duration": 426,
    "start_time": "2023-04-05T15:56:26.776Z"
   },
   {
    "duration": 5,
    "start_time": "2023-04-05T15:56:27.203Z"
   },
   {
    "duration": 686,
    "start_time": "2023-04-05T15:56:27.210Z"
   },
   {
    "duration": 28,
    "start_time": "2023-04-05T15:56:27.899Z"
   },
   {
    "duration": 381,
    "start_time": "2023-04-05T15:56:27.929Z"
   },
   {
    "duration": 793,
    "start_time": "2023-04-05T15:56:28.311Z"
   },
   {
    "duration": 340,
    "start_time": "2023-04-05T15:56:29.106Z"
   },
   {
    "duration": 705,
    "start_time": "2023-04-05T15:56:29.448Z"
   },
   {
    "duration": 363,
    "start_time": "2023-04-05T15:56:30.156Z"
   },
   {
    "duration": 21,
    "start_time": "2023-04-05T15:56:30.521Z"
   },
   {
    "duration": 52,
    "start_time": "2023-04-05T15:56:30.543Z"
   },
   {
    "duration": 80,
    "start_time": "2023-04-05T15:56:30.597Z"
   },
   {
    "duration": 41,
    "start_time": "2023-04-05T15:56:30.679Z"
   },
   {
    "duration": 38,
    "start_time": "2023-04-05T15:56:30.722Z"
   },
   {
    "duration": 42,
    "start_time": "2023-04-05T15:56:30.763Z"
   },
   {
    "duration": 174,
    "start_time": "2023-04-05T15:56:30.807Z"
   },
   {
    "duration": 93,
    "start_time": "2023-04-05T15:56:30.984Z"
   },
   {
    "duration": 112,
    "start_time": "2023-04-05T15:56:31.079Z"
   },
   {
    "duration": 21,
    "start_time": "2023-04-05T15:56:31.267Z"
   },
   {
    "duration": 33,
    "start_time": "2023-04-05T15:56:31.290Z"
   },
   {
    "duration": 53,
    "start_time": "2023-04-05T15:56:31.325Z"
   },
   {
    "duration": 48,
    "start_time": "2023-04-05T15:56:31.379Z"
   },
   {
    "duration": 25,
    "start_time": "2023-04-05T15:56:31.429Z"
   },
   {
    "duration": 44,
    "start_time": "2023-04-05T15:56:31.456Z"
   },
   {
    "duration": 29,
    "start_time": "2023-04-05T15:56:31.503Z"
   },
   {
    "duration": 1640,
    "start_time": "2023-04-05T15:58:06.754Z"
   },
   {
    "duration": 441,
    "start_time": "2023-04-05T15:58:08.397Z"
   },
   {
    "duration": 4,
    "start_time": "2023-04-05T15:58:08.840Z"
   },
   {
    "duration": 758,
    "start_time": "2023-04-05T15:58:08.845Z"
   },
   {
    "duration": 29,
    "start_time": "2023-04-05T15:58:09.605Z"
   },
   {
    "duration": 383,
    "start_time": "2023-04-05T15:58:09.636Z"
   },
   {
    "duration": 868,
    "start_time": "2023-04-05T15:58:10.021Z"
   },
   {
    "duration": 334,
    "start_time": "2023-04-05T15:58:10.891Z"
   },
   {
    "duration": 694,
    "start_time": "2023-04-05T15:58:11.227Z"
   },
   {
    "duration": 392,
    "start_time": "2023-04-05T15:58:11.923Z"
   },
   {
    "duration": 20,
    "start_time": "2023-04-05T15:58:12.318Z"
   },
   {
    "duration": 35,
    "start_time": "2023-04-05T15:58:12.339Z"
   },
   {
    "duration": 20,
    "start_time": "2023-04-05T15:58:12.380Z"
   },
   {
    "duration": 14,
    "start_time": "2023-04-05T15:58:12.403Z"
   },
   {
    "duration": 20,
    "start_time": "2023-04-05T15:58:12.419Z"
   },
   {
    "duration": 28,
    "start_time": "2023-04-05T15:58:12.441Z"
   },
   {
    "duration": 214,
    "start_time": "2023-04-05T15:58:12.471Z"
   },
   {
    "duration": 109,
    "start_time": "2023-04-05T15:58:12.692Z"
   },
   {
    "duration": 74,
    "start_time": "2023-04-05T15:58:12.803Z"
   },
   {
    "duration": 96,
    "start_time": "2023-04-05T15:58:12.885Z"
   },
   {
    "duration": 11,
    "start_time": "2023-04-05T15:58:12.984Z"
   },
   {
    "duration": 4,
    "start_time": "2023-04-05T15:58:12.997Z"
   },
   {
    "duration": 11,
    "start_time": "2023-04-05T15:58:13.003Z"
   },
   {
    "duration": 6,
    "start_time": "2023-04-05T15:58:13.016Z"
   },
   {
    "duration": 11,
    "start_time": "2023-04-05T15:58:13.024Z"
   },
   {
    "duration": 28,
    "start_time": "2023-04-05T15:58:13.037Z"
   },
   {
    "duration": 2735,
    "start_time": "2023-04-05T15:58:39.714Z"
   },
   {
    "duration": 700,
    "start_time": "2023-04-05T15:58:58.538Z"
   },
   {
    "duration": 5,
    "start_time": "2023-04-05T16:00:04.907Z"
   },
   {
    "duration": 5,
    "start_time": "2023-04-05T16:00:17.536Z"
   },
   {
    "duration": 50,
    "start_time": "2023-04-06T05:28:09.134Z"
   },
   {
    "duration": 1727,
    "start_time": "2023-04-06T05:28:13.257Z"
   },
   {
    "duration": 859,
    "start_time": "2023-04-06T05:28:14.987Z"
   },
   {
    "duration": 5,
    "start_time": "2023-04-06T05:28:15.848Z"
   },
   {
    "duration": 653,
    "start_time": "2023-04-06T05:28:15.854Z"
   },
   {
    "duration": 31,
    "start_time": "2023-04-06T05:28:16.508Z"
   },
   {
    "duration": 441,
    "start_time": "2023-04-06T05:28:16.541Z"
   },
   {
    "duration": 807,
    "start_time": "2023-04-06T05:28:16.985Z"
   },
   {
    "duration": 342,
    "start_time": "2023-04-06T05:28:17.795Z"
   },
   {
    "duration": 646,
    "start_time": "2023-04-06T05:28:18.139Z"
   },
   {
    "duration": 335,
    "start_time": "2023-04-06T05:28:18.788Z"
   },
   {
    "duration": 18,
    "start_time": "2023-04-06T05:28:19.124Z"
   },
   {
    "duration": 12,
    "start_time": "2023-04-06T05:28:19.144Z"
   },
   {
    "duration": 14,
    "start_time": "2023-04-06T05:28:19.158Z"
   },
   {
    "duration": 36,
    "start_time": "2023-04-06T05:28:19.174Z"
   },
   {
    "duration": 14,
    "start_time": "2023-04-06T05:28:19.211Z"
   },
   {
    "duration": 177,
    "start_time": "2023-04-06T05:28:19.227Z"
   },
   {
    "duration": 103,
    "start_time": "2023-04-06T05:28:19.406Z"
   },
   {
    "duration": 106,
    "start_time": "2023-04-06T05:28:19.513Z"
   },
   {
    "duration": 90,
    "start_time": "2023-04-06T05:28:19.623Z"
   },
   {
    "duration": 97,
    "start_time": "2023-04-06T05:28:19.715Z"
   },
   {
    "duration": 5,
    "start_time": "2023-04-06T05:28:19.814Z"
   },
   {
    "duration": 4,
    "start_time": "2023-04-06T05:28:19.820Z"
   },
   {
    "duration": 12,
    "start_time": "2023-04-06T05:28:19.826Z"
   },
   {
    "duration": 7,
    "start_time": "2023-04-06T05:28:19.840Z"
   },
   {
    "duration": 12,
    "start_time": "2023-04-06T05:28:22.855Z"
   },
   {
    "duration": 12,
    "start_time": "2023-04-06T05:29:39.334Z"
   },
   {
    "duration": 11,
    "start_time": "2023-04-06T05:30:16.182Z"
   },
   {
    "duration": 89,
    "start_time": "2023-04-06T05:39:09.727Z"
   },
   {
    "duration": 13,
    "start_time": "2023-04-06T05:39:12.708Z"
   },
   {
    "duration": 11,
    "start_time": "2023-04-06T05:39:24.970Z"
   },
   {
    "duration": 11,
    "start_time": "2023-04-06T05:39:36.153Z"
   },
   {
    "duration": 131,
    "start_time": "2023-04-06T05:41:57.025Z"
   },
   {
    "duration": 136,
    "start_time": "2023-04-06T05:43:26.544Z"
   },
   {
    "duration": 16,
    "start_time": "2023-04-06T05:45:33.071Z"
   },
   {
    "duration": 17,
    "start_time": "2023-04-06T05:54:12.226Z"
   },
   {
    "duration": 137,
    "start_time": "2023-04-06T05:54:23.819Z"
   },
   {
    "duration": 247,
    "start_time": "2023-04-06T05:58:35.362Z"
   },
   {
    "duration": 107,
    "start_time": "2023-04-06T05:58:47.193Z"
   },
   {
    "duration": 129,
    "start_time": "2023-04-06T05:58:56.880Z"
   },
   {
    "duration": 143,
    "start_time": "2023-04-06T06:04:15.123Z"
   },
   {
    "duration": 112,
    "start_time": "2023-04-06T07:12:06.065Z"
   },
   {
    "duration": 108,
    "start_time": "2023-04-06T07:12:19.369Z"
   },
   {
    "duration": 228,
    "start_time": "2023-04-06T07:12:25.040Z"
   },
   {
    "duration": 223,
    "start_time": "2023-04-06T07:13:54.454Z"
   },
   {
    "duration": 237,
    "start_time": "2023-04-06T07:13:59.975Z"
   },
   {
    "duration": 93,
    "start_time": "2023-04-06T07:14:52.480Z"
   },
   {
    "duration": 93,
    "start_time": "2023-04-06T07:14:58.151Z"
   },
   {
    "duration": 134,
    "start_time": "2023-04-06T07:16:29.661Z"
   },
   {
    "duration": 234,
    "start_time": "2023-04-06T07:16:33.829Z"
   },
   {
    "duration": 334,
    "start_time": "2023-04-06T07:16:44.489Z"
   },
   {
    "duration": 225,
    "start_time": "2023-04-06T07:17:46.432Z"
   },
   {
    "duration": 125,
    "start_time": "2023-04-06T07:18:43.364Z"
   },
   {
    "duration": 124,
    "start_time": "2023-04-06T07:19:00.652Z"
   },
   {
    "duration": 168,
    "start_time": "2023-04-06T07:25:47.725Z"
   },
   {
    "duration": 136,
    "start_time": "2023-04-06T07:26:42.563Z"
   },
   {
    "duration": 183,
    "start_time": "2023-04-06T07:27:17.795Z"
   },
   {
    "duration": 160,
    "start_time": "2023-04-06T07:29:05.001Z"
   },
   {
    "duration": 179,
    "start_time": "2023-04-06T07:29:28.080Z"
   },
   {
    "duration": 153,
    "start_time": "2023-04-06T07:30:18.640Z"
   },
   {
    "duration": 171,
    "start_time": "2023-04-06T07:37:06.757Z"
   },
   {
    "duration": 158,
    "start_time": "2023-04-06T07:37:55.172Z"
   },
   {
    "duration": 197,
    "start_time": "2023-04-06T07:38:02.372Z"
   },
   {
    "duration": 190,
    "start_time": "2023-04-06T07:38:42.181Z"
   },
   {
    "duration": 199,
    "start_time": "2023-04-06T07:40:25.083Z"
   },
   {
    "duration": 169,
    "start_time": "2023-04-06T07:40:45.283Z"
   },
   {
    "duration": 314,
    "start_time": "2023-04-06T07:40:53.483Z"
   },
   {
    "duration": 193,
    "start_time": "2023-04-06T07:41:02.563Z"
   },
   {
    "duration": 215,
    "start_time": "2023-04-06T07:41:13.892Z"
   },
   {
    "duration": 193,
    "start_time": "2023-04-06T07:41:23.890Z"
   },
   {
    "duration": 177,
    "start_time": "2023-04-06T07:41:29.438Z"
   },
   {
    "duration": 191,
    "start_time": "2023-04-06T07:41:39.986Z"
   },
   {
    "duration": 209,
    "start_time": "2023-04-06T07:47:26.861Z"
   },
   {
    "duration": 200,
    "start_time": "2023-04-06T07:47:27.073Z"
   },
   {
    "duration": 200,
    "start_time": "2023-04-06T07:47:33.430Z"
   },
   {
    "duration": 207,
    "start_time": "2023-04-06T07:47:40.472Z"
   },
   {
    "duration": 277,
    "start_time": "2023-04-06T07:47:53.567Z"
   },
   {
    "duration": 219,
    "start_time": "2023-04-06T07:48:02.476Z"
   },
   {
    "duration": 242,
    "start_time": "2023-04-06T07:48:06.058Z"
   },
   {
    "duration": 304,
    "start_time": "2023-04-06T07:48:20.306Z"
   },
   {
    "duration": 271,
    "start_time": "2023-04-06T07:48:35.001Z"
   },
   {
    "duration": 268,
    "start_time": "2023-04-06T07:49:21.781Z"
   },
   {
    "duration": 195,
    "start_time": "2023-04-06T07:49:29.932Z"
   },
   {
    "duration": 220,
    "start_time": "2023-04-06T07:49:40.720Z"
   },
   {
    "duration": 1675,
    "start_time": "2023-04-06T14:32:17.790Z"
   },
   {
    "duration": 967,
    "start_time": "2023-04-06T14:32:19.473Z"
   },
   {
    "duration": 4,
    "start_time": "2023-04-06T14:32:20.441Z"
   },
   {
    "duration": 579,
    "start_time": "2023-04-06T14:32:20.447Z"
   },
   {
    "duration": 26,
    "start_time": "2023-04-06T14:32:21.028Z"
   },
   {
    "duration": 352,
    "start_time": "2023-04-06T14:32:21.068Z"
   },
   {
    "duration": 699,
    "start_time": "2023-04-06T14:32:21.421Z"
   },
   {
    "duration": 367,
    "start_time": "2023-04-06T14:32:22.122Z"
   },
   {
    "duration": 604,
    "start_time": "2023-04-06T14:32:22.493Z"
   },
   {
    "duration": 285,
    "start_time": "2023-04-06T14:32:23.099Z"
   },
   {
    "duration": 17,
    "start_time": "2023-04-06T14:32:23.386Z"
   },
   {
    "duration": 14,
    "start_time": "2023-04-06T14:32:23.405Z"
   },
   {
    "duration": 21,
    "start_time": "2023-04-06T14:32:23.421Z"
   },
   {
    "duration": 13,
    "start_time": "2023-04-06T14:32:23.445Z"
   },
   {
    "duration": 24,
    "start_time": "2023-04-06T14:32:23.459Z"
   },
   {
    "duration": 82,
    "start_time": "2023-04-06T14:32:23.487Z"
   },
   {
    "duration": 118,
    "start_time": "2023-04-06T14:32:23.574Z"
   },
   {
    "duration": 93,
    "start_time": "2023-04-06T14:32:23.694Z"
   },
   {
    "duration": 85,
    "start_time": "2023-04-06T14:32:23.792Z"
   },
   {
    "duration": 96,
    "start_time": "2023-04-06T14:32:23.879Z"
   },
   {
    "duration": 10,
    "start_time": "2023-04-06T14:32:23.976Z"
   },
   {
    "duration": 4,
    "start_time": "2023-04-06T14:32:23.988Z"
   },
   {
    "duration": 25,
    "start_time": "2023-04-06T14:32:23.993Z"
   },
   {
    "duration": 4,
    "start_time": "2023-04-06T14:32:24.020Z"
   },
   {
    "duration": 15,
    "start_time": "2023-04-06T14:32:24.026Z"
   },
   {
    "duration": 13,
    "start_time": "2023-04-06T14:32:24.043Z"
   },
   {
    "duration": 14,
    "start_time": "2023-04-06T14:32:24.068Z"
   },
   {
    "duration": 142,
    "start_time": "2023-04-06T14:32:24.084Z"
   },
   {
    "duration": 126,
    "start_time": "2023-04-06T14:32:24.227Z"
   },
   {
    "duration": 4,
    "start_time": "2023-04-06T14:32:27.051Z"
   },
   {
    "duration": 4,
    "start_time": "2023-04-06T14:34:35.288Z"
   },
   {
    "duration": 112,
    "start_time": "2023-04-06T14:34:46.120Z"
   },
   {
    "duration": 3,
    "start_time": "2023-04-06T14:34:58.012Z"
   },
   {
    "duration": 14,
    "start_time": "2023-04-06T14:34:58.294Z"
   },
   {
    "duration": 4,
    "start_time": "2023-04-06T14:35:07.832Z"
   },
   {
    "duration": 6,
    "start_time": "2023-04-06T14:35:08.118Z"
   },
   {
    "duration": 6,
    "start_time": "2023-04-06T14:35:27.893Z"
   },
   {
    "duration": 6,
    "start_time": "2023-04-06T14:36:05.420Z"
   },
   {
    "duration": 7,
    "start_time": "2023-04-06T14:36:06.097Z"
   },
   {
    "duration": 4,
    "start_time": "2023-04-06T14:38:06.164Z"
   },
   {
    "duration": 8,
    "start_time": "2023-04-06T14:38:06.750Z"
   },
   {
    "duration": 4,
    "start_time": "2023-04-06T14:38:27.456Z"
   },
   {
    "duration": 8,
    "start_time": "2023-04-06T14:38:28.416Z"
   },
   {
    "duration": 7,
    "start_time": "2023-04-06T14:38:29.201Z"
   },
   {
    "duration": 7,
    "start_time": "2023-04-06T14:38:29.854Z"
   },
   {
    "duration": 127,
    "start_time": "2023-04-06T14:39:07.513Z"
   },
   {
    "duration": 5,
    "start_time": "2023-04-06T14:46:01.401Z"
   },
   {
    "duration": 7,
    "start_time": "2023-04-06T14:46:01.692Z"
   },
   {
    "duration": 7,
    "start_time": "2023-04-06T14:46:02.033Z"
   },
   {
    "duration": 3,
    "start_time": "2023-04-06T14:46:48.552Z"
   },
   {
    "duration": 8,
    "start_time": "2023-04-06T14:46:48.865Z"
   },
   {
    "duration": 6,
    "start_time": "2023-04-06T14:46:49.208Z"
   },
   {
    "duration": 8,
    "start_time": "2023-04-06T14:46:49.624Z"
   },
   {
    "duration": 3,
    "start_time": "2023-04-06T14:47:40.587Z"
   },
   {
    "duration": 3,
    "start_time": "2023-04-06T14:48:56.524Z"
   },
   {
    "duration": 111,
    "start_time": "2023-04-06T15:17:39.194Z"
   },
   {
    "duration": 21,
    "start_time": "2023-04-06T15:17:45.552Z"
   },
   {
    "duration": 6,
    "start_time": "2023-04-06T15:18:07.157Z"
   },
   {
    "duration": 18,
    "start_time": "2023-04-06T15:18:07.309Z"
   },
   {
    "duration": 4,
    "start_time": "2023-04-06T15:18:10.739Z"
   },
   {
    "duration": 7,
    "start_time": "2023-04-06T15:18:10.908Z"
   },
   {
    "duration": 28,
    "start_time": "2023-04-06T15:18:11.068Z"
   },
   {
    "duration": 3,
    "start_time": "2023-04-06T15:18:30.112Z"
   },
   {
    "duration": 6,
    "start_time": "2023-04-06T15:18:30.261Z"
   },
   {
    "duration": 1622,
    "start_time": "2023-04-06T15:18:30.725Z"
   },
   {
    "duration": 9,
    "start_time": "2023-04-06T15:19:42.689Z"
   },
   {
    "duration": 1546,
    "start_time": "2023-04-06T15:19:43.136Z"
   },
   {
    "duration": 6,
    "start_time": "2023-04-06T15:20:40.854Z"
   },
   {
    "duration": 1785,
    "start_time": "2023-04-06T15:20:40.995Z"
   },
   {
    "duration": 7,
    "start_time": "2023-04-06T15:30:45.151Z"
   },
   {
    "duration": 1454,
    "start_time": "2023-04-06T15:30:45.329Z"
   },
   {
    "duration": 1504,
    "start_time": "2023-04-06T15:33:55.024Z"
   },
   {
    "duration": 1339,
    "start_time": "2023-04-06T15:34:04.293Z"
   },
   {
    "duration": 9,
    "start_time": "2023-04-06T15:43:00.082Z"
   },
   {
    "duration": 1406,
    "start_time": "2023-04-06T15:43:01.324Z"
   },
   {
    "duration": 6,
    "start_time": "2023-04-06T15:43:16.898Z"
   },
   {
    "duration": 1432,
    "start_time": "2023-04-06T15:43:18.183Z"
   },
   {
    "duration": 6,
    "start_time": "2023-04-06T15:43:28.421Z"
   },
   {
    "duration": 1442,
    "start_time": "2023-04-06T15:43:29.040Z"
   },
   {
    "duration": 6,
    "start_time": "2023-04-06T15:43:37.259Z"
   },
   {
    "duration": 1507,
    "start_time": "2023-04-06T15:43:39.000Z"
   },
   {
    "duration": 13,
    "start_time": "2023-04-06T15:47:30.842Z"
   },
   {
    "duration": 1684,
    "start_time": "2023-04-06T15:47:31.968Z"
   },
   {
    "duration": 6,
    "start_time": "2023-04-06T15:48:56.633Z"
   },
   {
    "duration": 1705,
    "start_time": "2023-04-06T15:48:58.143Z"
   },
   {
    "duration": 6,
    "start_time": "2023-04-06T15:49:12.799Z"
   },
   {
    "duration": 1413,
    "start_time": "2023-04-06T15:49:13.286Z"
   },
   {
    "duration": 7,
    "start_time": "2023-04-06T15:49:22.138Z"
   },
   {
    "duration": 1366,
    "start_time": "2023-04-06T15:49:22.688Z"
   },
   {
    "duration": 9,
    "start_time": "2023-04-06T15:49:39.597Z"
   },
   {
    "duration": 1395,
    "start_time": "2023-04-06T15:49:39.960Z"
   },
   {
    "duration": 10,
    "start_time": "2023-04-06T15:51:09.693Z"
   },
   {
    "duration": 1395,
    "start_time": "2023-04-06T15:51:10.154Z"
   },
   {
    "duration": 7,
    "start_time": "2023-04-06T15:52:14.952Z"
   },
   {
    "duration": 1459,
    "start_time": "2023-04-06T15:52:15.506Z"
   },
   {
    "duration": 7,
    "start_time": "2023-04-06T15:53:18.784Z"
   },
   {
    "duration": 1424,
    "start_time": "2023-04-06T15:53:19.354Z"
   },
   {
    "duration": 7,
    "start_time": "2023-04-06T15:55:30.936Z"
   },
   {
    "duration": 1392,
    "start_time": "2023-04-06T15:55:31.356Z"
   },
   {
    "duration": 78,
    "start_time": "2023-04-06T15:56:59.390Z"
   },
   {
    "duration": 1416,
    "start_time": "2023-04-06T15:56:59.714Z"
   },
   {
    "duration": 94,
    "start_time": "2023-04-06T15:57:15.131Z"
   },
   {
    "duration": 99,
    "start_time": "2023-04-06T15:57:31.317Z"
   },
   {
    "duration": 1414,
    "start_time": "2023-04-06T15:57:33.852Z"
   },
   {
    "duration": 179,
    "start_time": "2023-04-06T15:57:55.785Z"
   },
   {
    "duration": 132,
    "start_time": "2023-04-06T15:58:12.763Z"
   },
   {
    "duration": 100,
    "start_time": "2023-04-06T15:58:22.157Z"
   },
   {
    "duration": 147,
    "start_time": "2023-04-06T15:58:25.799Z"
   },
   {
    "duration": 6,
    "start_time": "2023-04-06T15:58:30.036Z"
   },
   {
    "duration": 1471,
    "start_time": "2023-04-06T15:58:32.927Z"
   },
   {
    "duration": 8,
    "start_time": "2023-04-06T15:58:55.150Z"
   },
   {
    "duration": 1474,
    "start_time": "2023-04-06T15:58:55.480Z"
   },
   {
    "duration": 1466,
    "start_time": "2023-04-06T15:58:56.955Z"
   },
   {
    "duration": 1590,
    "start_time": "2023-04-06T15:58:58.423Z"
   },
   {
    "duration": 7,
    "start_time": "2023-04-06T15:59:52.088Z"
   },
   {
    "duration": 1686,
    "start_time": "2023-04-06T15:59:52.414Z"
   },
   {
    "duration": 1582,
    "start_time": "2023-04-06T15:59:54.103Z"
   },
   {
    "duration": 1539,
    "start_time": "2023-04-06T15:59:55.686Z"
   },
   {
    "duration": 7,
    "start_time": "2023-04-06T16:00:31.646Z"
   },
   {
    "duration": 1472,
    "start_time": "2023-04-06T16:00:31.998Z"
   },
   {
    "duration": 8,
    "start_time": "2023-04-06T16:00:49.246Z"
   },
   {
    "duration": 1516,
    "start_time": "2023-04-06T16:00:49.538Z"
   },
   {
    "duration": 1636,
    "start_time": "2023-04-06T16:00:51.056Z"
   },
   {
    "duration": 1759,
    "start_time": "2023-04-06T16:00:52.693Z"
   },
   {
    "duration": 123,
    "start_time": "2023-04-06T16:12:24.628Z"
   },
   {
    "duration": 1478,
    "start_time": "2023-04-06T16:12:26.537Z"
   },
   {
    "duration": 1555,
    "start_time": "2023-04-06T16:12:28.017Z"
   },
   {
    "duration": 1565,
    "start_time": "2023-04-06T16:12:29.575Z"
   },
   {
    "duration": 4,
    "start_time": "2023-04-06T16:12:31.142Z"
   },
   {
    "duration": 1482,
    "start_time": "2023-04-06T16:13:14.690Z"
   },
   {
    "duration": 7,
    "start_time": "2023-04-06T16:15:56.627Z"
   },
   {
    "duration": 1455,
    "start_time": "2023-04-06T16:15:56.951Z"
   },
   {
    "duration": 1524,
    "start_time": "2023-04-06T16:15:58.407Z"
   },
   {
    "duration": 1447,
    "start_time": "2023-04-06T16:15:59.932Z"
   },
   {
    "duration": 6,
    "start_time": "2023-04-06T16:16:01.381Z"
   },
   {
    "duration": 28,
    "start_time": "2023-04-06T16:16:01.388Z"
   },
   {
    "duration": 153,
    "start_time": "2023-04-06T16:24:11.060Z"
   },
   {
    "duration": 155,
    "start_time": "2023-04-06T16:24:23.308Z"
   },
   {
    "duration": 9,
    "start_time": "2023-04-06T16:26:04.157Z"
   },
   {
    "duration": 13,
    "start_time": "2023-04-06T16:26:15.400Z"
   },
   {
    "duration": 6,
    "start_time": "2023-04-06T16:26:22.653Z"
   },
   {
    "duration": 7,
    "start_time": "2023-04-06T16:26:23.664Z"
   },
   {
    "duration": 7,
    "start_time": "2023-04-06T16:26:24.995Z"
   },
   {
    "duration": 9,
    "start_time": "2023-04-06T16:26:25.367Z"
   },
   {
    "duration": 136,
    "start_time": "2023-04-06T16:26:30.470Z"
   },
   {
    "duration": 126,
    "start_time": "2023-04-06T16:26:59.261Z"
   },
   {
    "duration": 137,
    "start_time": "2023-04-06T16:27:52.607Z"
   },
   {
    "duration": 136,
    "start_time": "2023-04-06T16:28:02.210Z"
   },
   {
    "duration": 12,
    "start_time": "2023-04-06T16:28:35.862Z"
   },
   {
    "duration": 81,
    "start_time": "2023-04-06T16:28:45.697Z"
   },
   {
    "duration": 57,
    "start_time": "2023-04-06T16:29:55.335Z"
   },
   {
    "duration": 127,
    "start_time": "2023-04-06T16:31:21.658Z"
   },
   {
    "duration": 117,
    "start_time": "2023-04-06T16:32:05.301Z"
   },
   {
    "duration": 126,
    "start_time": "2023-04-06T16:34:00.099Z"
   },
   {
    "duration": 111,
    "start_time": "2023-04-06T16:34:23.562Z"
   },
   {
    "duration": 123,
    "start_time": "2023-04-06T16:34:44.899Z"
   },
   {
    "duration": 137,
    "start_time": "2023-04-06T16:34:55.001Z"
   },
   {
    "duration": 282,
    "start_time": "2023-04-06T16:35:43.808Z"
   },
   {
    "duration": 114,
    "start_time": "2023-04-06T16:36:01.465Z"
   },
   {
    "duration": 129,
    "start_time": "2023-04-06T16:36:12.952Z"
   },
   {
    "duration": 147,
    "start_time": "2023-04-06T16:36:19.487Z"
   },
   {
    "duration": 99,
    "start_time": "2023-04-06T16:36:23.310Z"
   },
   {
    "duration": 95,
    "start_time": "2023-04-06T16:36:26.297Z"
   },
   {
    "duration": 102,
    "start_time": "2023-04-06T16:36:29.343Z"
   },
   {
    "duration": 210,
    "start_time": "2023-04-06T16:36:31.955Z"
   },
   {
    "duration": 1615,
    "start_time": "2023-04-07T03:22:51.214Z"
   },
   {
    "duration": 1554,
    "start_time": "2023-04-07T03:22:52.834Z"
   },
   {
    "duration": 6,
    "start_time": "2023-04-07T03:22:54.392Z"
   },
   {
    "duration": 683,
    "start_time": "2023-04-07T03:22:54.401Z"
   },
   {
    "duration": 40,
    "start_time": "2023-04-07T03:22:55.085Z"
   },
   {
    "duration": 444,
    "start_time": "2023-04-07T03:22:55.127Z"
   },
   {
    "duration": 824,
    "start_time": "2023-04-07T03:22:55.572Z"
   },
   {
    "duration": 337,
    "start_time": "2023-04-07T03:22:56.399Z"
   },
   {
    "duration": 704,
    "start_time": "2023-04-07T03:22:56.738Z"
   },
   {
    "duration": 402,
    "start_time": "2023-04-07T03:22:57.445Z"
   },
   {
    "duration": 26,
    "start_time": "2023-04-07T03:22:57.850Z"
   },
   {
    "duration": 33,
    "start_time": "2023-04-07T03:22:57.878Z"
   },
   {
    "duration": 27,
    "start_time": "2023-04-07T03:22:57.913Z"
   },
   {
    "duration": 26,
    "start_time": "2023-04-07T03:22:57.942Z"
   },
   {
    "duration": 15,
    "start_time": "2023-04-07T03:22:57.969Z"
   },
   {
    "duration": 211,
    "start_time": "2023-04-07T03:22:57.986Z"
   },
   {
    "duration": 109,
    "start_time": "2023-04-07T03:22:58.202Z"
   },
   {
    "duration": 196,
    "start_time": "2023-04-07T03:22:58.313Z"
   },
   {
    "duration": 76,
    "start_time": "2023-04-07T03:22:58.514Z"
   },
   {
    "duration": 111,
    "start_time": "2023-04-07T03:22:58.592Z"
   },
   {
    "duration": 9,
    "start_time": "2023-04-07T03:22:58.704Z"
   },
   {
    "duration": 14,
    "start_time": "2023-04-07T03:22:58.715Z"
   },
   {
    "duration": 13,
    "start_time": "2023-04-07T03:22:58.731Z"
   },
   {
    "duration": 8,
    "start_time": "2023-04-07T03:22:58.746Z"
   },
   {
    "duration": 22,
    "start_time": "2023-04-07T03:22:58.755Z"
   },
   {
    "duration": 14,
    "start_time": "2023-04-07T03:22:58.779Z"
   },
   {
    "duration": 30,
    "start_time": "2023-04-07T03:22:58.796Z"
   },
   {
    "duration": 186,
    "start_time": "2023-04-07T03:22:58.830Z"
   },
   {
    "duration": 149,
    "start_time": "2023-04-07T03:22:59.018Z"
   },
   {
    "duration": 4,
    "start_time": "2023-04-07T03:22:59.169Z"
   },
   {
    "duration": 15,
    "start_time": "2023-04-07T03:22:59.175Z"
   },
   {
    "duration": 18,
    "start_time": "2023-04-07T03:22:59.192Z"
   },
   {
    "duration": 13,
    "start_time": "2023-04-07T03:22:59.211Z"
   },
   {
    "duration": 4,
    "start_time": "2023-04-07T03:22:59.225Z"
   },
   {
    "duration": 7,
    "start_time": "2023-04-07T03:22:59.230Z"
   },
   {
    "duration": 1777,
    "start_time": "2023-04-07T03:22:59.238Z"
   },
   {
    "duration": 1762,
    "start_time": "2023-04-07T03:23:01.016Z"
   },
   {
    "duration": 1658,
    "start_time": "2023-04-07T03:23:02.780Z"
   },
   {
    "duration": 151,
    "start_time": "2023-04-07T03:23:04.440Z"
   },
   {
    "duration": 157,
    "start_time": "2023-04-07T03:23:04.594Z"
   },
   {
    "duration": 134,
    "start_time": "2023-04-07T03:23:04.753Z"
   },
   {
    "duration": 130,
    "start_time": "2023-04-07T03:35:04.537Z"
   },
   {
    "duration": 149,
    "start_time": "2023-04-07T03:35:59.489Z"
   },
   {
    "duration": 123,
    "start_time": "2023-04-07T03:36:38.937Z"
   },
   {
    "duration": 119,
    "start_time": "2023-04-07T03:36:43.738Z"
   },
   {
    "duration": 117,
    "start_time": "2023-04-07T03:41:26.231Z"
   },
   {
    "duration": 233,
    "start_time": "2023-04-07T03:41:58.456Z"
   },
   {
    "duration": 123,
    "start_time": "2023-04-07T03:44:53.310Z"
   },
   {
    "duration": 49,
    "start_time": "2023-04-07T03:47:15.700Z"
   },
   {
    "duration": 126,
    "start_time": "2023-04-07T03:47:19.148Z"
   },
   {
    "duration": 128,
    "start_time": "2023-04-07T03:47:31.490Z"
   },
   {
    "duration": 201,
    "start_time": "2023-04-07T03:47:41.708Z"
   },
   {
    "duration": 219,
    "start_time": "2023-04-07T03:47:48.900Z"
   },
   {
    "duration": 197,
    "start_time": "2023-04-07T03:56:15.231Z"
   },
   {
    "duration": 228,
    "start_time": "2023-04-07T03:59:31.517Z"
   },
   {
    "duration": 133,
    "start_time": "2023-04-07T03:59:47.389Z"
   },
   {
    "duration": 246,
    "start_time": "2023-04-07T04:03:11.497Z"
   },
   {
    "duration": 203,
    "start_time": "2023-04-07T04:03:52.043Z"
   },
   {
    "duration": 1471,
    "start_time": "2023-04-07T05:08:51.245Z"
   },
   {
    "duration": 396,
    "start_time": "2023-04-07T05:08:52.718Z"
   },
   {
    "duration": 6,
    "start_time": "2023-04-07T05:08:53.116Z"
   },
   {
    "duration": 678,
    "start_time": "2023-04-07T05:08:53.125Z"
   },
   {
    "duration": 31,
    "start_time": "2023-04-07T05:08:53.805Z"
   },
   {
    "duration": 411,
    "start_time": "2023-04-07T05:08:53.838Z"
   },
   {
    "duration": 816,
    "start_time": "2023-04-07T05:08:54.251Z"
   },
   {
    "duration": 342,
    "start_time": "2023-04-07T05:08:55.069Z"
   },
   {
    "duration": 668,
    "start_time": "2023-04-07T05:08:55.413Z"
   },
   {
    "duration": 349,
    "start_time": "2023-04-07T05:08:56.084Z"
   },
   {
    "duration": 22,
    "start_time": "2023-04-07T05:08:56.435Z"
   },
   {
    "duration": 27,
    "start_time": "2023-04-07T05:08:56.460Z"
   },
   {
    "duration": 17,
    "start_time": "2023-04-07T05:08:56.489Z"
   },
   {
    "duration": 15,
    "start_time": "2023-04-07T05:08:56.507Z"
   },
   {
    "duration": 16,
    "start_time": "2023-04-07T05:08:56.525Z"
   },
   {
    "duration": 52,
    "start_time": "2023-04-07T05:08:56.543Z"
   },
   {
    "duration": 200,
    "start_time": "2023-04-07T05:08:56.598Z"
   },
   {
    "duration": 195,
    "start_time": "2023-04-07T05:08:56.800Z"
   },
   {
    "duration": 97,
    "start_time": "2023-04-07T05:08:56.998Z"
   },
   {
    "duration": 100,
    "start_time": "2023-04-07T05:08:57.097Z"
   },
   {
    "duration": 23,
    "start_time": "2023-04-07T05:08:57.198Z"
   },
   {
    "duration": 11,
    "start_time": "2023-04-07T05:08:57.223Z"
   },
   {
    "duration": 8,
    "start_time": "2023-04-07T05:08:57.235Z"
   },
   {
    "duration": 15,
    "start_time": "2023-04-07T05:08:57.244Z"
   },
   {
    "duration": 31,
    "start_time": "2023-04-07T05:08:57.261Z"
   },
   {
    "duration": 18,
    "start_time": "2023-04-07T05:08:57.294Z"
   },
   {
    "duration": 11,
    "start_time": "2023-04-07T05:08:57.314Z"
   },
   {
    "duration": 170,
    "start_time": "2023-04-07T05:08:57.328Z"
   },
   {
    "duration": 157,
    "start_time": "2023-04-07T05:08:57.500Z"
   },
   {
    "duration": 4,
    "start_time": "2023-04-07T05:08:57.659Z"
   },
   {
    "duration": 22,
    "start_time": "2023-04-07T05:08:57.665Z"
   },
   {
    "duration": 7,
    "start_time": "2023-04-07T05:08:57.689Z"
   },
   {
    "duration": 8,
    "start_time": "2023-04-07T05:08:57.698Z"
   },
   {
    "duration": 6,
    "start_time": "2023-04-07T05:08:57.708Z"
   },
   {
    "duration": 8,
    "start_time": "2023-04-07T05:08:57.716Z"
   },
   {
    "duration": 1581,
    "start_time": "2023-04-07T05:08:57.726Z"
   },
   {
    "duration": 1774,
    "start_time": "2023-04-07T05:08:59.308Z"
   },
   {
    "duration": 1635,
    "start_time": "2023-04-07T05:09:01.083Z"
   },
   {
    "duration": 148,
    "start_time": "2023-04-07T05:09:02.719Z"
   },
   {
    "duration": 135,
    "start_time": "2023-04-07T05:09:02.869Z"
   },
   {
    "duration": 250,
    "start_time": "2023-04-07T05:09:03.006Z"
   },
   {
    "duration": 2176,
    "start_time": "2023-04-07T18:27:27.408Z"
   },
   {
    "duration": 1490,
    "start_time": "2023-04-07T18:27:29.587Z"
   },
   {
    "duration": 4,
    "start_time": "2023-04-07T18:27:31.079Z"
   },
   {
    "duration": 684,
    "start_time": "2023-04-07T18:27:31.085Z"
   },
   {
    "duration": 33,
    "start_time": "2023-04-07T18:27:31.771Z"
   },
   {
    "duration": 433,
    "start_time": "2023-04-07T18:27:31.806Z"
   },
   {
    "duration": 754,
    "start_time": "2023-04-07T18:27:32.241Z"
   },
   {
    "duration": 310,
    "start_time": "2023-04-07T18:27:32.997Z"
   },
   {
    "duration": 637,
    "start_time": "2023-04-07T18:27:33.308Z"
   },
   {
    "duration": 346,
    "start_time": "2023-04-07T18:27:33.949Z"
   },
   {
    "duration": 22,
    "start_time": "2023-04-07T18:27:34.297Z"
   },
   {
    "duration": 16,
    "start_time": "2023-04-07T18:27:34.321Z"
   },
   {
    "duration": 17,
    "start_time": "2023-04-07T18:27:34.339Z"
   },
   {
    "duration": 36,
    "start_time": "2023-04-07T18:27:34.357Z"
   },
   {
    "duration": 14,
    "start_time": "2023-04-07T18:27:34.395Z"
   },
   {
    "duration": 178,
    "start_time": "2023-04-07T18:27:34.411Z"
   },
   {
    "duration": 109,
    "start_time": "2023-04-07T18:27:34.592Z"
   },
   {
    "duration": 198,
    "start_time": "2023-04-07T18:27:34.703Z"
   },
   {
    "duration": 98,
    "start_time": "2023-04-07T18:27:34.992Z"
   },
   {
    "duration": 15,
    "start_time": "2023-04-07T18:27:35.091Z"
   },
   {
    "duration": 7,
    "start_time": "2023-04-07T18:27:35.107Z"
   },
   {
    "duration": 5,
    "start_time": "2023-04-07T18:27:35.115Z"
   },
   {
    "duration": 11,
    "start_time": "2023-04-07T18:27:35.122Z"
   },
   {
    "duration": 17,
    "start_time": "2023-04-07T18:27:35.134Z"
   },
   {
    "duration": 17,
    "start_time": "2023-04-07T18:27:35.153Z"
   },
   {
    "duration": 25,
    "start_time": "2023-04-07T18:27:35.171Z"
   },
   {
    "duration": 12,
    "start_time": "2023-04-07T18:27:35.198Z"
   },
   {
    "duration": 188,
    "start_time": "2023-04-07T18:27:35.213Z"
   },
   {
    "duration": 149,
    "start_time": "2023-04-07T18:27:35.403Z"
   },
   {
    "duration": 4,
    "start_time": "2023-04-07T18:27:35.555Z"
   },
   {
    "duration": 14,
    "start_time": "2023-04-07T18:27:35.560Z"
   },
   {
    "duration": 16,
    "start_time": "2023-04-07T18:27:35.576Z"
   },
   {
    "duration": 8,
    "start_time": "2023-04-07T18:27:35.594Z"
   },
   {
    "duration": 7,
    "start_time": "2023-04-07T18:27:35.603Z"
   },
   {
    "duration": 7,
    "start_time": "2023-04-07T18:27:35.612Z"
   },
   {
    "duration": 1563,
    "start_time": "2023-04-07T18:27:35.621Z"
   },
   {
    "duration": 1614,
    "start_time": "2023-04-07T18:27:37.187Z"
   },
   {
    "duration": 1529,
    "start_time": "2023-04-07T18:27:38.802Z"
   },
   {
    "duration": 174,
    "start_time": "2023-04-07T18:27:40.333Z"
   },
   {
    "duration": 165,
    "start_time": "2023-04-07T18:27:40.510Z"
   },
   {
    "duration": 281,
    "start_time": "2023-04-07T18:27:40.676Z"
   }
  ],
  "kernelspec": {
   "display_name": "Python 3 (ipykernel)",
   "language": "python",
   "name": "python3"
  },
  "language_info": {
   "codemirror_mode": {
    "name": "ipython",
    "version": 3
   },
   "file_extension": ".py",
   "mimetype": "text/x-python",
   "name": "python",
   "nbconvert_exporter": "python",
   "pygments_lexer": "ipython3",
   "version": "3.11.3"
  },
  "toc": {
   "base_numbering": 1,
   "nav_menu": {
    "height": "386.99px",
    "width": "396.99px"
   },
   "number_sections": true,
   "sideBar": true,
   "skip_h1_title": true,
   "title_cell": "Table of Contents",
   "title_sidebar": "Contents",
   "toc_cell": false,
   "toc_position": {
    "height": "calc(100% - 180px)",
    "left": "10px",
    "top": "150px",
    "width": "315.865px"
   },
   "toc_section_display": true,
   "toc_window_display": true
  }
 },
 "nbformat": 4,
 "nbformat_minor": 2
}
